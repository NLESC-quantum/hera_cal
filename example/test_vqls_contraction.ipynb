{
 "cells": [
  {
   "cell_type": "code",
   "execution_count": 1,
   "metadata": {},
   "outputs": [],
   "source": [
    "import numpy as np\n",
    "from vqls_prototype import VQLS, VQLSLog\n",
    "from qiskit.primitives import Estimator \n",
    "from vqls_prototype.hadamard_test import BatchHadammardTest"
   ]
  },
  {
   "cell_type": "code",
   "execution_count": 2,
   "metadata": {},
   "outputs": [],
   "source": [
    "N = 8\n",
    "A = np.random.rand(N,N)\n",
    "A = A + A.T \n",
    "\n",
    "# A = np.loadtxt('./matrix_linear/4linear.mat')\n",
    "# A /= np.linalg.norm(A)\n",
    " \n",
    "b = np.random.rand(N)\n",
    "b /= np.linalg.norm(b)"
   ]
  },
  {
   "cell_type": "code",
   "execution_count": 3,
   "metadata": {},
   "outputs": [],
   "source": [
    "from qiskit.circuit.library.n_local.real_amplitudes import RealAmplitudes\n",
    "from qiskit.circuit.library.n_local.efficient_su2 import EfficientSU2\n",
    "num_qubits = int(np.log2(N))\n",
    "ansatz = RealAmplitudes(num_qubits, entanglement='full', reps=2, insert_barriers=False)\n",
    "# ansatz = EfficientSU2(num_qubits, reps=1, entanglement='reverse_linear', insert_barriers=False)"
   ]
  },
  {
   "cell_type": "code",
   "execution_count": 4,
   "metadata": {},
   "outputs": [],
   "source": [
    "from qiskit.algorithms import optimizers as opt\n",
    "optimizer = opt.COBYLA(maxiter=250)"
   ]
  },
  {
   "cell_type": "code",
   "execution_count": 5,
   "metadata": {},
   "outputs": [],
   "source": [
    "num_parameters = ansatz.num_parameters\n",
    "parameters = np.random.rand(num_parameters)"
   ]
  },
  {
   "attachments": {},
   "cell_type": "markdown",
   "metadata": {},
   "source": [
    "# Cost evaulation Pauli"
   ]
  },
  {
   "cell_type": "code",
   "execution_count": 6,
   "metadata": {},
   "outputs": [
    {
     "name": "stdout",
     "output_type": "stream",
     "text": [
      "VQLS Iteration 1 Cost 0.13166811746021911\r"
     ]
    }
   ],
   "source": [
    "log = VQLSLog([], [])\n",
    "estimator_noisefree = Estimator()\n",
    "vqls = VQLS(estimator_noisefree, ansatz, optimizer,callback=log.update)\n",
    "vqls_options = vqls._validate_solve_options({\"matrix_decomposition\":'pauli', \n",
    "                                             'shots':None})\n",
    "hdmr_tests_norm, hdmr_tests_overlap = vqls.construct_circuit(A, b, vqls_options)\n",
    "coefficient_matrix = vqls.get_coefficient_matrix(\n",
    "    np.array([mat_i.coeff for mat_i in vqls.matrix_circuits])\n",
    ")\n",
    "\n",
    "cost_evaluation = vqls.get_cost_evaluation_function(\n",
    "    hdmr_tests_norm, hdmr_tests_overlap, coefficient_matrix, vqls_options\n",
    ")\n",
    "\n",
    "cost_value = cost_evaluation(parameters)"
   ]
  },
  {
   "attachments": {},
   "cell_type": "markdown",
   "metadata": {},
   "source": [
    "# Cost Evaluation Contracted Pauli"
   ]
  },
  {
   "cell_type": "code",
   "execution_count": 7,
   "metadata": {},
   "outputs": [
    {
     "name": "stdout",
     "output_type": "stream",
     "text": [
      "VQLS Iteration 1 Cost 0.13166811746021911\r"
     ]
    }
   ],
   "source": [
    "log = VQLSLog([], [])\n",
    "estimator_noisefree = Estimator()\n",
    "vqls = VQLS(estimator_noisefree, ansatz, optimizer,callback=log.update)\n",
    "vqls_options = vqls._validate_solve_options({\"matrix_decomposition\":'contracted_pauli', \n",
    "                                             'shots':None})\n",
    "hdmr_tests_norm, hdmr_tests_overlap = vqls.construct_circuit(A, b, vqls_options)\n",
    "coefficient_matrix = vqls.get_coefficient_matrix(\n",
    "    np.array([mat_i.coeff for mat_i in vqls.matrix_circuits])\n",
    ")\n",
    "\n",
    "cost_evaluation = vqls.get_cost_evaluation_function(\n",
    "    hdmr_tests_norm, hdmr_tests_overlap, coefficient_matrix, vqls_options\n",
    ")\n",
    "\n",
    "cost_value = cost_evaluation(parameters)"
   ]
  },
  {
   "attachments": {},
   "cell_type": "markdown",
   "metadata": {},
   "source": [
    "# Measurement OPtimization"
   ]
  },
  {
   "cell_type": "code",
   "execution_count": 8,
   "metadata": {},
   "outputs": [],
   "source": [
    "from vqls_prototype.matrix_decomposition import ContractedPauliDecomposition \n",
    "PD = ContractedPauliDecomposition(A)"
   ]
  },
  {
   "cell_type": "code",
   "execution_count": 9,
   "metadata": {},
   "outputs": [],
   "source": [
    "qwc_groups, qwc_groups_eigenvalues, qwc_groups_shared_basis_transformation = PD.group_contracted_terms()"
   ]
  },
  {
   "cell_type": "code",
   "execution_count": 10,
   "metadata": {},
   "outputs": [
    {
     "data": {
      "text/plain": [
       "['XXX', 'IXX', 'XIX', 'XXI', 'IIX', 'IXI', 'XII']"
      ]
     },
     "execution_count": 10,
     "metadata": {},
     "output_type": "execute_result"
    }
   ],
   "source": [
    "qwc_groups[0]"
   ]
  },
  {
   "cell_type": "code",
   "execution_count": 11,
   "metadata": {},
   "outputs": [
    {
     "data": {
      "text/plain": [
       "[array([ 1, -1, -1,  1, -1,  1,  1, -1]),\n",
       " array([ 1, -1, -1,  1,  1, -1, -1,  1]),\n",
       " array([ 1, -1,  1, -1, -1,  1, -1,  1]),\n",
       " array([ 1,  1, -1, -1, -1, -1,  1,  1]),\n",
       " array([ 1, -1,  1, -1,  1, -1,  1, -1]),\n",
       " array([ 1,  1, -1, -1,  1,  1, -1, -1]),\n",
       " array([ 1,  1,  1,  1, -1, -1, -1, -1])]"
      ]
     },
     "execution_count": 11,
     "metadata": {},
     "output_type": "execute_result"
    }
   ],
   "source": [
    "qwc_groups_eigenvalues[0]"
   ]
  },
  {
   "cell_type": "code",
   "execution_count": 12,
   "metadata": {},
   "outputs": [
    {
     "data": {
      "text/plain": [
       "<qiskit.circuit.quantumcircuit.QuantumCircuit at 0x7f62e4310910>"
      ]
     },
     "execution_count": 12,
     "metadata": {},
     "output_type": "execute_result"
    }
   ],
   "source": [
    "qwc_groups_shared_basis_transformation[0]"
   ]
  },
  {
   "cell_type": "code",
   "execution_count": 13,
   "metadata": {},
   "outputs": [
    {
     "data": {
      "image/png": "[encoded data removed]",
      "text/plain": [
       "<Figure size 998.442x367.889 with 1 Axes>"
      ]
     },
     "execution_count": 13,
     "metadata": {},
     "output_type": "execute_result"
    }
   ],
   "source": [
    "from qiskit.primitives import Sampler \n",
    "sampler = Sampler()\n",
    "\n",
    "circuit = ansatz.compose(qwc_groups_shared_basis_transformation[0])\n",
    "circuit.measure_all()\n",
    "circuit.draw('mpl')"
   ]
  },
  {
   "cell_type": "code",
   "execution_count": 14,
   "metadata": {},
   "outputs": [],
   "source": [
    "result = sampler.run(\n",
    "    circuit,\n",
    "    parameters\n",
    ").result()"
   ]
  },
  {
   "cell_type": "code",
   "execution_count": 15,
   "metadata": {},
   "outputs": [
    {
     "data": {
      "text/plain": [
       "array([7.56552886e-01, 6.94216234e-02, 8.61988297e-03, 3.56321195e-02,\n",
       "       4.12373614e-03, 2.62146601e-05, 1.96880307e-02, 1.05935506e-01])"
      ]
     },
     "execution_count": 15,
     "metadata": {},
     "output_type": "execute_result"
    }
   ],
   "source": [
    "quasi_dist = result.quasi_dists\n",
    "for qdist in quasi_dist:\n",
    "    # add missing keys\n",
    "    val = np.array(\n",
    "        [qdist[k] if k in qdist else 0 for k in range(2**3)]\n",
    "    )\n",
    "val"
   ]
  },
  {
   "cell_type": "code",
   "execution_count": 16,
   "metadata": {},
   "outputs": [
    {
     "data": {
      "text/plain": [
       "[0.6237985025087798,\n",
       " 0.8044884964108419,\n",
       " 0.7422689803299114,\n",
       " 0.9031960934118097,\n",
       " 0.5779690723296775,\n",
       " 0.6602489211292522,\n",
       " 0.7404530245346053]"
      ]
     },
     "execution_count": 16,
     "metadata": {},
     "output_type": "execute_result"
    }
   ],
   "source": [
    "values = [  np.dot(ev, val) for ev in qwc_groups_eigenvalues[0]]\n",
    "values"
   ]
  },
  {
   "cell_type": "code",
   "execution_count": 17,
   "metadata": {},
   "outputs": [
    {
     "data": {
      "text/plain": [
       "EstimatorResult(values=array([0.6237985 , 0.8044885 , 0.74226898, 0.90319609, 0.57796907,\n",
       "       0.66024892, 0.74045302]), metadata=[{}, {}, {}, {}, {}, {}, {}])"
      ]
     },
     "execution_count": 17,
     "metadata": {},
     "output_type": "execute_result"
    }
   ],
   "source": [
    "estimator = Estimator()\n",
    "estimator.run([ansatz]*len(qwc_groups[0]), qwc_groups[0], [parameters]*len(qwc_groups[0])).result()"
   ]
  },
  {
   "cell_type": "code",
   "execution_count": 18,
   "metadata": {},
   "outputs": [
    {
     "data": {
      "text/plain": [
       "630"
      ]
     },
     "execution_count": 18,
     "metadata": {},
     "output_type": "execute_result"
    }
   ],
   "source": [
    "len(PD.contraction_index_mapping)"
   ]
  },
  {
   "cell_type": "code",
   "execution_count": 19,
   "metadata": {},
   "outputs": [
    {
     "data": {
      "text/plain": [
       "63"
      ]
     },
     "execution_count": 19,
     "metadata": {},
     "output_type": "execute_result"
    }
   ],
   "source": [
    "len(PD.unique_pauli_strings)"
   ]
  },
  {
   "cell_type": "code",
   "execution_count": 20,
   "metadata": {},
   "outputs": [
    {
     "ename": "NameError",
     "evalue": "name 'groups' is not defined",
     "output_type": "error",
     "traceback": [
      "\u001b[0;31m---------------------------------------------------------------------------\u001b[0m",
      "\u001b[0;31mNameError\u001b[0m                                 Traceback (most recent call last)",
      "\u001b[1;32m/home/nico/QuantumRadioAstronomy/hera_cal/example/test_vqls_contraction.ipynb Cell 23\u001b[0m in \u001b[0;36m1\n\u001b[0;32m----> <a href='vscode-notebook-cell:/home/nico/QuantumRadioAstronomy/hera_cal/example/test_vqls_contraction.ipynb#Y111sZmlsZQ%3D%3D?line=0'>1</a>\u001b[0m groups\n",
      "\u001b[0;31mNameError\u001b[0m: name 'groups' is not defined"
     ]
    }
   ],
   "source": [
    "groups"
   ]
  },
  {
   "cell_type": "code",
   "execution_count": null,
   "metadata": {},
   "outputs": [],
   "source": []
  }
 ],
 "metadata": {
  "kernelspec": {
   "display_name": "hera_cal",
   "language": "python",
   "name": "python3"
  },
  "language_info": {
   "codemirror_mode": {
    "name": "ipython",
    "version": 3
   },
   "file_extension": ".py",
   "mimetype": "text/x-python",
   "name": "python",
   "nbconvert_exporter": "python",
   "pygments_lexer": "ipython3",
   "version": "3.8.13"
  },
  "orig_nbformat": 4
 },
 "nbformat": 4,
 "nbformat_minor": 2
}
