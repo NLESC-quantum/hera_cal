{
 "cells": [
  {
   "cell_type": "code",
   "execution_count": 1,
   "metadata": {},
   "outputs": [],
   "source": [
    "import numpy as np\n",
    "from qiskit import QuantumCircuit\n",
    "from vqls_prototype import VQLS, VQLSLog\n",
    "from qiskit.primitives import Estimator, Sampler \n",
    "from vqls_prototype.direct_hadamard_test import BatchDirectHadammardTest\n",
    "from vqls_prototype.hadamard_test import BatchHadammardTest\n",
    "from vqls_prototype.optimized_matrix_decomposition import OptimizedPauliDecomposition, ContractedPauliDecomposition"
   ]
  },
  {
   "cell_type": "code",
   "execution_count": 2,
   "metadata": {},
   "outputs": [],
   "source": [
    "N = 4\n",
    "\n",
    "num_qubits = int(np.log2(N))\n",
    "A = np.random.rand(N,N)\n",
    "A = A + A.T \n",
    "\n",
    "# A = np.loadtxt('./matrix_linear/matrix_8linear.txt')\n",
    "# A /= np.linalg.norm(A)\n",
    " \n",
    "b = np.loadtxt('./matrix_linear/rhs_8linear.txt')\n",
    "# b = np.random.rand(N)\n",
    "# b /= np.linalg.norm(b)\n",
    "\n",
    "# b = QuantumCircuit(num_qubits)\n",
    "# b.x(0)\n",
    "# b.z(1)\n"
   ]
  },
  {
   "cell_type": "code",
   "execution_count": 3,
   "metadata": {},
   "outputs": [
    {
     "data": {
      "text/plain": [
       "array([ -59732.9517539 ,    1639.77805529,  120544.36440465,\n",
       "       -110355.41298286,  105277.44418797,  -19339.28341552,\n",
       "        -30161.94187917,   -7871.99661647])"
      ]
     },
     "execution_count": 3,
     "metadata": {},
     "output_type": "execute_result"
    }
   ],
   "source": [
    "b"
   ]
  },
  {
   "cell_type": "code",
   "execution_count": 46,
   "metadata": {},
   "outputs": [],
   "source": [
    "from qiskit.circuit.library.n_local.real_amplitudes import RealAmplitudes\n",
    "from qiskit.circuit.library.n_local.efficient_su2 import EfficientSU2\n",
    "\n",
    "# ansatz = RealAmplitudes(num_qubits, entanglement='full', reps=2, insert_barriers=False)\n",
    "ansatz = EfficientSU2(num_qubits, reps=1, entanglement='reverse_linear', insert_barriers=False)"
   ]
  },
  {
   "cell_type": "code",
   "execution_count": 47,
   "metadata": {},
   "outputs": [],
   "source": [
    "from qiskit.algorithms import optimizers as opt\n",
    "optimizer = opt.COBYLA(maxiter=250)"
   ]
  },
  {
   "cell_type": "code",
   "execution_count": 48,
   "metadata": {},
   "outputs": [],
   "source": [
    "num_parameters = ansatz.num_parameters\n",
    "parameters = np.random.rand(num_parameters)"
   ]
  },
  {
   "attachments": {},
   "cell_type": "markdown",
   "metadata": {},
   "source": [
    "# Cost Evaluation Contracted Pauli"
   ]
  },
  {
   "cell_type": "code",
   "execution_count": 49,
   "metadata": {},
   "outputs": [
    {
     "name": "stdout",
     "output_type": "stream",
     "text": [
      "VQLS Iteration 1 Cost 0.7112171452907161\r"
     ]
    }
   ],
   "source": [
    "log = VQLSLog([], [])\n",
    "estimator_noisefree = Estimator()\n",
    "sampler_noisefree = Sampler()\n",
    "\n",
    "vqls = VQLS(estimator_noisefree, ansatz, optimizer, sampler=sampler_noisefree, callback=log.update)\n",
    "\n",
    "vqls_options = vqls._validate_solve_options({\"matrix_decomposition\":'contracted_pauli', \n",
    "                                             'shots':None})\n",
    "hdmr_tests_norm, hdmr_tests_overlap = vqls.construct_circuit(A, b, vqls_options)\n",
    "coefficient_matrix = vqls.get_coefficient_matrix(\n",
    "    np.array([mat_i.coeff for mat_i in vqls.matrix_circuits])\n",
    ")\n",
    "\n",
    "cost_evaluation = vqls.get_cost_evaluation_function(\n",
    "    hdmr_tests_norm, hdmr_tests_overlap, coefficient_matrix, vqls_options\n",
    ")\n",
    "\n",
    "cost_value = cost_evaluation(parameters)"
   ]
  },
  {
   "cell_type": "code",
   "execution_count": 50,
   "metadata": {},
   "outputs": [
    {
     "data": {
      "text/html": [
       "<pre style=\"word-wrap: normal;white-space: pre;background: #fff0;line-height: 1.1;font-family: &quot;Courier New&quot;,Courier,monospace\">     ┌───┐┌──────────────────────────────────────────────────────────┐┌───────┐»\n",
       "q_0: ┤ H ├┤0                                                         ├┤0      ├»\n",
       "     └───┘│                                                          ││       │»\n",
       "q_1: ─────┤1 c_EfficientSU2(θ[0],θ[1],θ[2],θ[3],θ[4],θ[5],θ[6],θ[7]) ├┤1 c_XX ├»\n",
       "          │                                                          ││       │»\n",
       "q_2: ─────┤2                                                         ├┤2      ├»\n",
       "          └──────────────────────────────────────────────────────────┘└───────┘»\n",
       "«     ┌────────────────────┐┌───┐\n",
       "«q_0: ┤0                   ├┤ H ├\n",
       "«     │                    │└───┘\n",
       "«q_1: ┤1 c_circuit-2642_dg ├─────\n",
       "«     │                    │     \n",
       "«q_2: ┤2                   ├─────\n",
       "«     └────────────────────┘     </pre>"
      ],
      "text/plain": [
       "     ┌───┐┌──────────────────────────────────────────────────────────┐┌───────┐»\n",
       "q_0: ┤ H ├┤0                                                         ├┤0      ├»\n",
       "     └───┘│                                                          ││       │»\n",
       "q_1: ─────┤1 c_EfficientSU2(θ[0],θ[1],θ[2],θ[3],θ[4],θ[5],θ[6],θ[7]) ├┤1 c_XX ├»\n",
       "          │                                                          ││       │»\n",
       "q_2: ─────┤2                                                         ├┤2      ├»\n",
       "          └──────────────────────────────────────────────────────────┘└───────┘»\n",
       "«     ┌────────────────────┐┌───┐\n",
       "«q_0: ┤0                   ├┤ H ├\n",
       "«     │                    │└───┘\n",
       "«q_1: ┤1 c_circuit-2642_dg ├─────\n",
       "«     │                    │     \n",
       "«q_2: ┤2                   ├─────\n",
       "«     └────────────────────┘     "
      ]
     },
     "execution_count": 50,
     "metadata": {},
     "output_type": "execute_result"
    }
   ],
   "source": [
    "hdmr_tests_overlap[4].circuits[0].draw()"
   ]
  },
  {
   "cell_type": "code",
   "execution_count": 51,
   "metadata": {},
   "outputs": [
    {
     "data": {
      "text/plain": [
       "(0.3789782769114747-0.004048149267515289j)"
      ]
     },
     "execution_count": 51,
     "metadata": {},
     "output_type": "execute_result"
    }
   ],
   "source": [
    "target = hdmr_tests_overlap[4].get_value(estimator_noisefree, parameters)\n",
    "target"
   ]
  },
  {
   "cell_type": "code",
   "execution_count": 52,
   "metadata": {},
   "outputs": [
    {
     "data": {
      "text/html": [
       "<pre style=\"word-wrap: normal;white-space: pre;background: #fff0;line-height: 1.1;font-family: &quot;Courier New&quot;,Courier,monospace\">     ┌───┐\n",
       "q_0: ┤ X ├\n",
       "     ├───┤\n",
       "q_1: ┤ Z ├\n",
       "     └───┘</pre>"
      ],
      "text/plain": [
       "     ┌───┐\n",
       "q_0: ┤ X ├\n",
       "     ├───┤\n",
       "q_1: ┤ Z ├\n",
       "     └───┘"
      ]
     },
     "execution_count": 52,
     "metadata": {},
     "output_type": "execute_result"
    }
   ],
   "source": [
    "vqls.vector_circuit.draw()"
   ]
  },
  {
   "cell_type": "code",
   "execution_count": 53,
   "metadata": {},
   "outputs": [
    {
     "data": {
      "text/plain": [
       "array([0.0690563 , 0.14364092, 0.06824686, 0.71905591])"
      ]
     },
     "execution_count": 53,
     "metadata": {},
     "output_type": "execute_result"
    }
   ],
   "source": [
    "from qiskit import QuantumCircuit \n",
    "sampler = Sampler() \n",
    "qc1 = QuantumCircuit(2,2)\n",
    "qc1.append(ansatz,[0,1])\n",
    "qc1.x(0)\n",
    "qc1.x(1)\n",
    "\n",
    "qc1.measure(0,0)\n",
    "qc1.measure(1,1)\n",
    "qc1.draw()\n",
    "\n",
    "result1 = sampler.run(\n",
    "    qc1,\n",
    "    parameters\n",
    ").result()\n",
    "result1\n",
    "\n",
    "quasi_dist = result1.quasi_dists\n",
    "for qdist in quasi_dist:\n",
    "    val1 = np.array(\n",
    "        [qdist[k] if k in qdist else 0 for k in range(2**num_qubits)]\n",
    "    )\n",
    "val1"
   ]
  },
  {
   "cell_type": "code",
   "execution_count": 54,
   "metadata": {},
   "outputs": [
    {
     "data": {
      "text/plain": [
       "array([0., 1., 0., 0.])"
      ]
     },
     "execution_count": 54,
     "metadata": {},
     "output_type": "execute_result"
    }
   ],
   "source": [
    "qc2 = QuantumCircuit(2)\n",
    "qc2.append(vqls.vector_circuit.inverse(),[0,1])\n",
    "\n",
    "\n",
    "qc2.measure_all()\n",
    "qc2.decompose().draw()\n",
    "\n",
    "result2 = sampler.run(\n",
    "    qc2,\n",
    ").result()\n",
    "result2\n",
    "\n",
    "quasi_dist = result2.quasi_dists\n",
    "for qdist in quasi_dist:\n",
    "    val2 = np.array(\n",
    "        [qdist[k] if k in qdist else 0 for k in range(2**num_qubits)]\n",
    "    )\n",
    "val2"
   ]
  },
  {
   "cell_type": "code",
   "execution_count": 55,
   "metadata": {},
   "outputs": [
    {
     "data": {
      "text/plain": [
       "0.1436409218832824"
      ]
     },
     "execution_count": 55,
     "metadata": {},
     "output_type": "execute_result"
    }
   ],
   "source": [
    "np.array([a*b for a,b in zip(val1,val2)]).sum()\n"
   ]
  },
  {
   "cell_type": "code",
   "execution_count": 56,
   "metadata": {},
   "outputs": [
    {
     "data": {
      "text/plain": [
       "(0.14364092188328245+0j)"
      ]
     },
     "execution_count": 56,
     "metadata": {},
     "output_type": "execute_result"
    }
   ],
   "source": [
    "target*np.conj(target)"
   ]
  },
  {
   "cell_type": "code",
   "execution_count": 57,
   "metadata": {},
   "outputs": [
    {
     "data": {
      "text/plain": [
       "SamplerResult(quasi_dists=[{0: 0.1436409218832824, 1: 0.069056298945411, 2: 0.7190559149525174, 3: 0.0682468642187894}], metadata=[{}])"
      ]
     },
     "execution_count": 57,
     "metadata": {},
     "output_type": "execute_result"
    }
   ],
   "source": [
    "from qiskit import QuantumCircuit \n",
    "sampler = Sampler() \n",
    "qc1 = QuantumCircuit(2,2)\n",
    "qc1.append(ansatz,[0,1])\n",
    "# qc1.x(0)\n",
    "# qc1.x(0)\n",
    "qc1.y(1)\n",
    "# qc1.z(1)\n",
    "\n",
    "qc1.measure(0,0)\n",
    "qc1.measure(1,1)\n",
    "qc1.draw()\n",
    "\n",
    "result1 = sampler.run(\n",
    "    qc1,\n",
    "    parameters\n",
    ").result()\n",
    "result1\n",
    "\n",
    "# quasi_dist = result1.quasi_dists\n",
    "# for qdist in quasi_dist:\n",
    "#     val1 = np.array(\n",
    "#         [qdist[k] if k in qdist else 0 for k in range(2**num_qubits)]\n",
    "#     )\n",
    "# val1"
   ]
  },
  {
   "cell_type": "code",
   "execution_count": 60,
   "metadata": {},
   "outputs": [
    {
     "data": {
      "text/plain": [
       "array([[ 0.+0.j,  1.+0.j,  0.+0.j,  0.+0.j],\n",
       "       [ 1.+0.j,  0.+0.j,  0.+0.j,  0.+0.j],\n",
       "       [ 0.+0.j,  0.+0.j,  0.+0.j, -1.+0.j],\n",
       "       [ 0.+0.j,  0.+0.j, -1.+0.j,  0.+0.j]])"
      ]
     },
     "execution_count": 60,
     "metadata": {},
     "output_type": "execute_result"
    }
   ],
   "source": [
    "from qiskit.quantum_info import Operator\n",
    "Operator(vqls.vector_circuit).data"
   ]
  },
  {
   "cell_type": "markdown",
   "metadata": {},
   "source": []
  },
  {
   "cell_type": "markdown",
   "metadata": {},
   "source": [
    "# Cost Evaluation Optimized Pauli"
   ]
  },
  {
   "cell_type": "code",
   "execution_count": null,
   "metadata": {},
   "outputs": [
    {
     "name": "stdout",
     "output_type": "stream",
     "text": [
      "VQLS Iteration 1 Cost 0.3590194598640818\r"
     ]
    }
   ],
   "source": [
    "log = VQLSLog([], [])\n",
    "estimator_noisefree = Estimator()\n",
    "sampler_noisefree = Sampler()\n",
    "\n",
    "vqls = VQLS(estimator_noisefree, ansatz, optimizer, sampler=sampler_noisefree, callback=log.update)\n",
    "vqls_options = vqls._validate_solve_options({\"matrix_decomposition\":'optimized_pauli', \n",
    "                                             'shots':None})\n",
    "hdmr_tests_norm, hdmr_tests_overlap = vqls.construct_circuit(A, b, vqls_options)\n",
    "coefficient_matrix = vqls.get_coefficient_matrix(\n",
    "    np.array([mat_i.coeff for mat_i in vqls.matrix_circuits])\n",
    ")\n",
    "\n",
    "\n",
    "cost_evaluation = vqls.get_cost_evaluation_function(\n",
    "    hdmr_tests_norm, hdmr_tests_overlap, coefficient_matrix, vqls_options\n",
    ")\n",
    "\n",
    "cost_value = cost_evaluation(parameters)"
   ]
  },
  {
   "attachments": {},
   "cell_type": "markdown",
   "metadata": {},
   "source": [
    "# Cost evaulation Pauli"
   ]
  },
  {
   "cell_type": "code",
   "execution_count": null,
   "metadata": {},
   "outputs": [
    {
     "name": "stdout",
     "output_type": "stream",
     "text": [
      "VQLS Iteration 1 Cost 0.3590194598640817\r"
     ]
    }
   ],
   "source": [
    "log = VQLSLog([], [])\n",
    "estimator_noisefree = Estimator()\n",
    "vqls = VQLS(estimator_noisefree, ansatz, optimizer,callback=log.update)\n",
    "vqls_options = vqls._validate_solve_options({\"matrix_decomposition\":'pauli', \n",
    "                                             'shots':None})\n",
    "hdmr_tests_norm, hdmr_tests_overlap = vqls.construct_circuit(A, b, vqls_options)\n",
    "coefficient_matrix = vqls.get_coefficient_matrix(\n",
    "    np.array([mat_i.coeff for mat_i in vqls.matrix_circuits])\n",
    ")\n",
    "\n",
    "cost_evaluation = vqls.get_cost_evaluation_function(\n",
    "    hdmr_tests_norm, hdmr_tests_overlap, coefficient_matrix, vqls_options\n",
    ")\n",
    "\n",
    "cost_value = cost_evaluation(parameters)"
   ]
  },
  {
   "cell_type": "markdown",
   "metadata": {},
   "source": [
    "# Solve system"
   ]
  },
  {
   "cell_type": "code",
   "execution_count": null,
   "metadata": {},
   "outputs": [
    {
     "name": "stdout",
     "output_type": "stream",
     "text": [
      "VQLS Iteration 250 Cost 0.0030073990968320086\r"
     ]
    },
    {
     "data": {
      "text/plain": [
       "[<matplotlib.lines.Line2D at 0x7f22986306d0>]"
      ]
     },
     "execution_count": 41,
     "metadata": {},
     "output_type": "execute_result"
    },
    {
     "data": {
      "image/png": "[encoded data removed]",
      "text/plain": [
       "<Figure size 640x480 with 1 Axes>"
      ]
     },
     "metadata": {},
     "output_type": "display_data"
    }
   ],
   "source": [
    "log = VQLSLog([], [])\n",
    "estimator_noisefree = Estimator()\n",
    "sampler_noisefree = Sampler()\n",
    "\n",
    "vqls = VQLS(estimator_noisefree, ansatz, optimizer, sampler=sampler_noisefree, callback=log.update)\n",
    "vqls.solve(A,b,options={\"matrix_decomposition\":'optimized_pauli', 'shots':None} )\n",
    "\n",
    "import matplotlib.pyplot as plt\n",
    "plt.plot(log.values)"
   ]
  },
  {
   "cell_type": "code",
   "execution_count": null,
   "metadata": {},
   "outputs": [],
   "source": []
  }
 ],
 "metadata": {
  "kernelspec": {
   "display_name": "hera_cal",
   "language": "python",
   "name": "python3"
  },
  "language_info": {
   "codemirror_mode": {
    "name": "ipython",
    "version": 3
   },
   "file_extension": ".py",
   "mimetype": "text/x-python",
   "name": "python",
   "nbconvert_exporter": "python",
   "pygments_lexer": "ipython3",
   "version": "3.8.13"
  },
  "orig_nbformat": 4
 },
 "nbformat": 4,
 "nbformat_minor": 2
}
