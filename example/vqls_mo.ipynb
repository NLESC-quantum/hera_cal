{
 "cells": [
  {
   "cell_type": "code",
   "execution_count": 1,
   "metadata": {},
   "outputs": [],
   "source": [
    "import numpy as np\n",
    "import matplotlib.pyplot as plt\n",
    "from qiskit import QuantumCircuit\n",
    "from qiskit.quantum_info import Operator, SparsePauliOp\n",
    "from vqls_prototype import VQLS, VQLSLog\n",
    "from vqls_prototype import Hybrid_QST_VQLS, QST_VQLS\n",
    "from qiskit.primitives import Estimator, Sampler \n",
    "from vqls_prototype.hadamard_test.direct_hadamard_test import BatchDirectHadammardTest\n",
    "from vqls_prototype.hadamard_test.hadamard_test import BatchHadammardTest\n",
    "from vqls_prototype.matrix_decomposition.optimized_matrix_decomposition import OptimizedPauliDecomposition, ContractedPauliDecomposition"
   ]
  },
  {
   "cell_type": "code",
   "execution_count": 2,
   "metadata": {},
   "outputs": [],
   "source": [
    "N = 4\n",
    "\n",
    "num_qubits = int(np.log2(N))\n",
    "A = -0.5*np.random.rand(N,N)\n",
    "A = A + A.T \n",
    "\n",
    "b = -0.5*np.random.rand(N)\n",
    "b /= np.linalg.norm(b)\n"
   ]
  },
  {
   "cell_type": "code",
   "execution_count": 3,
   "metadata": {},
   "outputs": [],
   "source": [
    "from qiskit.circuit.library.n_local.real_amplitudes import RealAmplitudes\n",
    "from qiskit.circuit.library.n_local.efficient_su2 import EfficientSU2\n",
    "\n",
    "ansatz = RealAmplitudes(num_qubits, entanglement='full', reps=3, insert_barriers=False)\n",
    "# ansatz = EfficientSU2(num_qubits, reps=1, entanglement='reverse_linear', insert_barriers=False)"
   ]
  },
  {
   "cell_type": "code",
   "execution_count": 4,
   "metadata": {},
   "outputs": [
    {
     "data": {
      "text/html": [
       "<pre style=\"word-wrap: normal;white-space: pre;background: #fff0;line-height: 1.1;font-family: &quot;Courier New&quot;,Courier,monospace\">     ┌──────────┐     ┌──────────┐     ┌──────────┐     ┌──────────┐\n",
       "q_0: ┤ Ry(θ[0]) ├──■──┤ Ry(θ[2]) ├──■──┤ Ry(θ[4]) ├──■──┤ Ry(θ[6]) ├\n",
       "     ├──────────┤┌─┴─┐├──────────┤┌─┴─┐├──────────┤┌─┴─┐├──────────┤\n",
       "q_1: ┤ Ry(θ[1]) ├┤ X ├┤ Ry(θ[3]) ├┤ X ├┤ Ry(θ[5]) ├┤ X ├┤ Ry(θ[7]) ├\n",
       "     └──────────┘└───┘└──────────┘└───┘└──────────┘└───┘└──────────┘</pre>"
      ],
      "text/plain": [
       "     ┌──────────┐     ┌──────────┐     ┌──────────┐     ┌──────────┐\n",
       "q_0: ┤ Ry(θ[0]) ├──■──┤ Ry(θ[2]) ├──■──┤ Ry(θ[4]) ├──■──┤ Ry(θ[6]) ├\n",
       "     ├──────────┤┌─┴─┐├──────────┤┌─┴─┐├──────────┤┌─┴─┐├──────────┤\n",
       "q_1: ┤ Ry(θ[1]) ├┤ X ├┤ Ry(θ[3]) ├┤ X ├┤ Ry(θ[5]) ├┤ X ├┤ Ry(θ[7]) ├\n",
       "     └──────────┘└───┘└──────────┘└───┘└──────────┘└───┘└──────────┘"
      ]
     },
     "execution_count": 4,
     "metadata": {},
     "output_type": "execute_result"
    }
   ],
   "source": [
    "ansatz.decompose().draw()"
   ]
  },
  {
   "cell_type": "code",
   "execution_count": 5,
   "metadata": {},
   "outputs": [],
   "source": [
    "from qiskit.algorithms import optimizers as opt\n",
    "optimizer = opt.COBYLA(maxiter=250)"
   ]
  },
  {
   "cell_type": "code",
   "execution_count": 6,
   "metadata": {},
   "outputs": [],
   "source": [
    "num_parameters = ansatz.num_parameters\n",
    "parameters = 4*np.pi*np.random.rand(num_parameters)"
   ]
  },
  {
   "cell_type": "code",
   "execution_count": 7,
   "metadata": {},
   "outputs": [
    {
     "name": "stdout",
     "output_type": "stream",
     "text": [
      "VQLS Iteration 1 Cost 0.48228388023703894\r"
     ]
    },
    {
     "data": {
      "text/plain": [
       "0.48228388023703894"
      ]
     },
     "execution_count": 7,
     "metadata": {},
     "output_type": "execute_result"
    }
   ],
   "source": [
    "log = VQLSLog([], [])\n",
    "estimator_noisefree = Estimator()\n",
    "sampler_noisefree = Sampler()\n",
    "vqls = VQLS(estimator_noisefree, ansatz, optimizer, sampler=sampler_noisefree, callback=log.update)\n",
    "vqls_options = vqls._validate_solve_options({\"matrix_decomposition\":'pauli', \n",
    "                                             'shots':None})\n",
    "\n",
    "\n",
    "hdmr_tests_norm, hdmr_tests_overlap = vqls.construct_circuit(A, b, vqls_options)\n",
    "hdmr_norm_values = BatchHadammardTest(hdmr_tests_norm).get_values(estimator_noisefree, parameters)\n",
    "hdmr_overlap_values = BatchHadammardTest(hdmr_tests_overlap).get_values(estimator_noisefree, parameters)\n",
    "\n",
    "coefficient_matrix = vqls.get_coefficient_matrix(np.array([mat_i.coeff for mat_i in vqls.matrix_circuits]))\n",
    "vqls_cost = vqls.get_cost_evaluation_function(\n",
    "    hdmr_tests_norm, hdmr_tests_overlap, coefficient_matrix, vqls_options\n",
    ")\n",
    "vqls_cost(parameters)"
   ]
  },
  {
   "cell_type": "code",
   "execution_count": 8,
   "metadata": {},
   "outputs": [],
   "source": [
    "hybrid_qst_vqls = Hybrid_QST_VQLS(estimator_noisefree, ansatz, optimizer, sampler_noisefree, callback=log.update)\n",
    "hybrid_qst_vqls._init_tomography('htree')\n",
    "norm_circuits, overlap_circuits = hybrid_qst_vqls.construct_circuit(A, b, {'tomography':'htree', 'shots':None})\n",
    "samples = BatchDirectHadammardTest(norm_circuits).get_values(sampler_noisefree, parameters)\n",
    "\n",
    "hdmr_values_norm_mo = hybrid_qst_vqls.matrix_circuits.get_norm_values(samples)\n",
    "\n",
    "samples = BatchDirectHadammardTest(overlap_circuits).get_values(sampler_noisefree, parameters)\n",
    "sign_ansatz = hybrid_qst_vqls.tomography_calculator.get_relative_amplitude_sign(parameters)\n",
    "hdmr_values_overlap_mo = hybrid_qst_vqls.matrix_circuits.get_overlap_values(\n",
    "                samples, sign_ansatz\n",
    "            )"
   ]
  },
  {
   "cell_type": "code",
   "execution_count": 9,
   "metadata": {},
   "outputs": [
    {
     "data": {
      "text/plain": [
       "<matplotlib.collections.PathCollection at 0x7f9dd83137c0>"
      ]
     },
     "execution_count": 9,
     "metadata": {},
     "output_type": "execute_result"
    },
    {
     "data": {
      "image/png": "[encoded data removed]",
      "text/plain": [
       "<Figure size 640x480 with 1 Axes>"
      ]
     },
     "metadata": {},
     "output_type": "display_data"
    }
   ],
   "source": [
    "plt.scatter(np.real(hdmr_norm_values), np.real(hdmr_values_norm_mo))\n",
    "plt.scatter(np.real(hdmr_overlap_values), np.real(hdmr_values_overlap_mo))\n"
   ]
  },
  {
   "cell_type": "code",
   "execution_count": 10,
   "metadata": {},
   "outputs": [
    {
     "name": "stdout",
     "output_type": "stream",
     "text": [
      "VQLS Iteration 1 Cost 0.4822838802370282\r"
     ]
    },
    {
     "data": {
      "text/plain": [
       "0.4822838802370282"
      ]
     },
     "execution_count": 10,
     "metadata": {},
     "output_type": "execute_result"
    }
   ],
   "source": [
    "coefficient_matrix = hybrid_qst_vqls.get_coefficient_matrix(np.array([mat_i.coeff for mat_i in vqls.matrix_circuits]))\n",
    "vqls_cost = hybrid_qst_vqls.get_cost_evaluation_function(\n",
    "    norm_circuits, overlap_circuits, coefficient_matrix, vqls_options\n",
    ")\n",
    "vqls_cost(parameters)"
   ]
  },
  {
   "cell_type": "code",
   "execution_count": 11,
   "metadata": {},
   "outputs": [],
   "source": [
    "qst_vqls = QST_VQLS(estimator_noisefree, ansatz, optimizer, sampler_noisefree, callback=log.update)\n",
    "qst_vqls.initialize_tomography_calculator('htree')\n",
    "qst_vqls.preprocessing_matrices(A, b)\n",
    "\n",
    "statevector = qst_vqls.tomography_calculator.get_statevector(parameters)\n",
    "\n",
    "\n",
    "hdmr_values_norm_mo = qst_vqls.get_norm_values(statevector)\n",
    "hdmr_values_overlap_mo = qst_vqls.get_overlap_values(statevector)\n"
   ]
  },
  {
   "cell_type": "code",
   "execution_count": 12,
   "metadata": {},
   "outputs": [
    {
     "data": {
      "text/plain": [
       "<matplotlib.collections.PathCollection at 0x7f9dd3f74b20>"
      ]
     },
     "execution_count": 12,
     "metadata": {},
     "output_type": "execute_result"
    },
    {
     "data": {
      "image/png": "[encoded data removed]",
      "text/plain": [
       "<Figure size 640x480 with 1 Axes>"
      ]
     },
     "metadata": {},
     "output_type": "display_data"
    }
   ],
   "source": [
    "plt.scatter(np.real(hdmr_norm_values), np.real(hdmr_values_norm_mo))\n",
    "plt.scatter(np.real(hdmr_overlap_values), np.real(hdmr_values_overlap_mo))\n"
   ]
  },
  {
   "cell_type": "code",
   "execution_count": 13,
   "metadata": {},
   "outputs": [
    {
     "name": "stdout",
     "output_type": "stream",
     "text": [
      "VQLS Iteration 1 Cost 0.4822838802370282\r"
     ]
    },
    {
     "data": {
      "text/plain": [
       "0.4822838802370282"
      ]
     },
     "execution_count": 13,
     "metadata": {},
     "output_type": "execute_result"
    }
   ],
   "source": [
    "coefficient_matrix = qst_vqls.get_coefficient_matrix(np.array([mat_i.coeff for mat_i in vqls.matrix_circuits]))\n",
    "vqls_cost = qst_vqls.get_cost_evaluation_function(coefficient_matrix, vqls_options)\n",
    "vqls_cost(parameters)"
   ]
  },
  {
   "cell_type": "code",
   "execution_count": 15,
   "metadata": {},
   "outputs": [
    {
     "name": "stdout",
     "output_type": "stream",
     "text": [
      "VQLS Iteration 250 Cost 1.0259746650143065e-05\r"
     ]
    },
    {
     "data": {
      "text/plain": [
       "<vqls_prototype.variational_linear_solver.VariationalLinearSolverResult at 0x7f9e2c058700>"
      ]
     },
     "execution_count": 15,
     "metadata": {},
     "output_type": "execute_result"
    }
   ],
   "source": [
    "qst_vqls.solve(A,b)"
   ]
  },
  {
   "cell_type": "code",
   "execution_count": null,
   "metadata": {},
   "outputs": [],
   "source": []
  }
 ],
 "metadata": {
  "kernelspec": {
   "display_name": "hera_cal",
   "language": "python",
   "name": "python3"
  },
  "language_info": {
   "codemirror_mode": {
    "name": "ipython",
    "version": 3
   },
   "file_extension": ".py",
   "mimetype": "text/x-python",
   "name": "python",
   "nbconvert_exporter": "python",
   "pygments_lexer": "ipython3",
   "version": "3.8.13"
  },
  "orig_nbformat": 4
 },
 "nbformat": 4,
 "nbformat_minor": 2
}
