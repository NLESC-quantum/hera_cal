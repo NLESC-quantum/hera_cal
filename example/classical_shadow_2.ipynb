{
 "cells": [
  {
   "cell_type": "code",
   "execution_count": 4,
   "metadata": {},
   "outputs": [],
   "source": [
    "from qiskit.circuit.random import random_circuit \n",
    "from qiskit.primitives import Sampler \n",
    "from qiskit import QuantumCircuit\n",
    "from qiskit.quantum_info import Statevector, Operator \n",
    "import numpy as np\n",
    "\n",
    "from qiskit.circuit.library.n_local.real_amplitudes import RealAmplitudes\n",
    "from qiskit.circuit.library.n_local.efficient_su2 import EfficientSU2\n",
    "\n"
   ]
  },
  {
   "cell_type": "code",
   "execution_count": 5,
   "metadata": {},
   "outputs": [],
   "source": [
    "nqbits = 2\n",
    "\n",
    "circ = RealAmplitudes(nqbits, entanglement='full', reps=3, insert_barriers=False)\n",
    "parameters = 4*np.pi*np.random.rand(circ.num_parameters)\n",
    "circ = circ.bind_parameters(parameters)"
   ]
  },
  {
   "cell_type": "code",
   "execution_count": 6,
   "metadata": {},
   "outputs": [
    {
     "name": "stdout",
     "output_type": "stream",
     "text": [
      "State distance\n",
      "(0.06472727400408582+0j)\n",
      "verify 2-local expecations converge\n",
      "(0, 0) 0.0\n",
      "(0, 1) 0.006\n",
      "(0, 2) 0.027600000000000003\n",
      "(0, 3) 0.031200000000000006\n",
      "(1, 0) 0.0065999999999999965\n",
      "(1, 1) 0.03160000000000007\n",
      "(1, 2) 0.023399999999999997\n",
      "(1, 3) 0.0288\n",
      "(2, 0) 0.04139999999999999\n",
      "(2, 1) 0.05939999999999999\n",
      "(2, 2) 0.04960000000000009\n",
      "(2, 3) 0.0252\n",
      "(3, 0) 0.008399999999999963\n",
      "(3, 1) 0.008999999999999998\n",
      "(3, 2) 0.052199999999999996\n",
      "(3, 3) 0.036799999999999944\n"
     ]
    }
   ],
   "source": [
    "from math import exp\n",
    "from qiskit import *\n",
    "from qiskit import Aer\n",
    "import numpy as np\n",
    "import matplotlib.pyplot as plt\n",
    "from random import randrange\n",
    "\n",
    "sampler = Sampler()\n",
    "\n",
    "np.random.seed(222)\n",
    "def one_shot(operator):\n",
    "    \n",
    "    sim = Aer.get_backend('aer_simulator')\n",
    "    qc = QuantumCircuit(2)\n",
    "#     unitary = [qc.h, qc.sdg, qc.id] # no! Bug #1\n",
    "    # unitary = [[qc.h], [qc.sdg, qc.h], [qc.id]] \n",
    "    unitary = [[qc.h], [qc.id]] \n",
    "    qc.h(0)\n",
    "    qc.cx(0,1)\n",
    "    # new code:\n",
    "    for x in unitary[operator[0]]:\n",
    "        x(0)\n",
    "    for x in unitary[operator[1]]:\n",
    "        x(1)\n",
    "    qc = qc.measure_all(inplace=False)\n",
    "    result = sampler.run(qc,shots=1).result()\n",
    "    # qobj = assemble(qc,shots=1)\n",
    "    # result = sim.run(qobj).result().get_counts()\n",
    "    return result.quasi_dists[0]\n",
    "\n",
    "def distance(rho):\n",
    "    '''\n",
    "    calculate distance of two density matrix\n",
    "    '''\n",
    "    return np.sqrt(np.trace(rho.conjugate().transpose().dot(rho)))\n",
    "\n",
    "hadamard = 1/np.sqrt(2)*np.array([[1,1],[1,-1]])\n",
    "s_gate = np.array([[1,0],[0,-1j]],dtype=complex)\n",
    "id = np.identity(2) # don't overwrite builtins with variables!\n",
    "# unitary = [hadamard,np.dot(hadamard,s_gate),id]\n",
    "unitary = [hadamard,id]\n",
    "\n",
    "snapshot_num = 5000 # more shots\n",
    "state0 = np.array([[1,0],[0,0]])\n",
    "state1 = np.array([[0,0],[0,1]])\n",
    "states = [state0, state1]\n",
    "record_rho = np.zeros([4,4])\n",
    "for i in range(snapshot_num):\n",
    "    randnum = np.random.randint(0,2,size=2)\n",
    "    result = one_shot(randnum)\n",
    "    \n",
    "    # bit0, bit1 = [int(x) for x in list(result.keys())[0]] # assuming one shot\n",
    "    bits = int(list(result.keys())[0])\n",
    "    bit0, bit1 = format(bits,'b').zfill(2)\n",
    "    bit0, bit1 = int(bit0), int(bit1)\n",
    "    U0, U1 = unitary[randnum[0]], unitary[randnum[1]]\n",
    "    # No! Bug #2: your parentheses were incorrect here\n",
    "    rhohat = np.kron(3* U0.conj().T @ states[bit0] @ U0 - id , 3* U1.conj().T @ states[bit1] @ U1 - id)\n",
    "    record_rho = record_rho + rhohat\n",
    "    \n",
    "record_rho = record_rho/snapshot_num\n",
    "bell_state = np.array([[0.5, 0, 0, 0.5], [0, 0, 0, 0], [0, 0, 0, 0], [0.5, 0, 0, 0.5]])\n",
    "\n",
    "print(\"State distance\")\n",
    "print(distance(record_rho - bell_state))\n",
    "\n",
    "# VERIFICATION\n",
    "print(\"verify 2-local expecations converge\")\n",
    "I = np.eye(2)\n",
    "X = np.array([[0, 1], [1, 0]])\n",
    "Y = np.array([[0, -1j], [1j, 0]])\n",
    "Z = np.array([[1, 0], [0, -1]])\n",
    "paulis = [I, X, Y, Z]\n",
    "\n",
    "for i in range(4):\n",
    "    for j in range(4):\n",
    "        twolocal_pauli = np.kron(paulis[i], paulis[j])\n",
    "        expectation_true = np.trace(bell_state @ twolocal_pauli)\n",
    "        expectation_rhohat = np.trace(record_rho @ twolocal_pauli)\n",
    "        print((i,j), abs(expectation_true - expectation_rhohat))"
   ]
  },
  {
   "cell_type": "code",
   "execution_count": 7,
   "metadata": {},
   "outputs": [],
   "source": [
    "a,b,c = format(2,'b').zfill(3)"
   ]
  },
  {
   "cell_type": "code",
   "execution_count": 8,
   "metadata": {},
   "outputs": [],
   "source": [
    "circ = RealAmplitudes(nqbits, entanglement='full', reps=3, insert_barriers=False)\n",
    "parameters = 4*np.pi*np.random.rand(circ.num_parameters)\n",
    "circ = circ.bind_parameters(parameters)\n",
    "circ = circ.measure_all(inplace=False)\n",
    "result = sampler.run(circ,shots=100).result()"
   ]
  },
  {
   "cell_type": "code",
   "execution_count": 9,
   "metadata": {},
   "outputs": [
    {
     "data": {
      "text/plain": [
       "{0: 0.04, 1: 0.55, 2: 0.16, 3: 0.25}"
      ]
     },
     "execution_count": 9,
     "metadata": {},
     "output_type": "execute_result"
    }
   ],
   "source": [
    "qd = result.quasi_dists[0]\n",
    "# print(qd.popitem())\n",
    "qd.binary_probabilities()\n",
    "qd.setdefault(3,0)\n",
    "qd\n"
   ]
  },
  {
   "cell_type": "code",
   "execution_count": null,
   "metadata": {},
   "outputs": [],
   "source": []
  }
 ],
 "metadata": {
  "kernelspec": {
   "display_name": "hera_cal",
   "language": "python",
   "name": "python3"
  },
  "language_info": {
   "codemirror_mode": {
    "name": "ipython",
    "version": 3
   },
   "file_extension": ".py",
   "mimetype": "text/x-python",
   "name": "python",
   "nbconvert_exporter": "python",
   "pygments_lexer": "ipython3",
   "version": "3.8.13"
  },
  "orig_nbformat": 4
 },
 "nbformat": 4,
 "nbformat_minor": 2
}
