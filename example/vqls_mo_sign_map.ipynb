{
 "cells": [
  {
   "cell_type": "code",
   "execution_count": 1,
   "metadata": {},
   "outputs": [],
   "source": [
    "import numpy as np\n",
    "import matplotlib.pyplot as plt\n",
    "from qiskit import QuantumCircuit\n",
    "from qiskit.quantum_info import Operator, SparsePauliOp\n",
    "from vqls_prototype import VQLS, VQLSLog\n",
    "from vqls_prototype.vqls_mo import VQLS_MO\n",
    "from vqls_prototype import PauliDecomposition\n",
    "from qiskit.primitives import Estimator, Sampler \n",
    "from vqls_prototype.direct_hadamard_test import BatchDirectHadammardTest\n",
    "from vqls_prototype.hadamard_test import BatchHadammardTest\n",
    "from vqls_prototype.optimized_matrix_decomposition import OptimizedPauliDecomposition, ContractedPauliDecomposition"
   ]
  },
  {
   "cell_type": "code",
   "execution_count": 17,
   "metadata": {},
   "outputs": [],
   "source": [
    "from qiskit.circuit.library.n_local.real_amplitudes import RealAmplitudes, RYGate\n",
    "from qiskit.circuit.library.n_local.efficient_su2 import EfficientSU2\n",
    "num_qubits = 2\n",
    "ansatz = RealAmplitudes(num_qubits, entanglement='full', reps=1, insert_barriers=False)\n",
    "\n",
    "num_parameters = ansatz.num_parameters\n",
    "parameters = 4*np.pi*np.random.rand(num_parameters)"
   ]
  },
  {
   "cell_type": "code",
   "execution_count": 18,
   "metadata": {},
   "outputs": [
    {
     "data": {
      "text/html": [
       "<pre style=\"word-wrap: normal;white-space: pre;background: #fff0;line-height: 1.1;font-family: &quot;Courier New&quot;,Courier,monospace\">     ┌──────────┐     ┌──────────┐\n",
       "q_0: ┤ Ry(θ[0]) ├──■──┤ Ry(θ[2]) ├\n",
       "     ├──────────┤┌─┴─┐├──────────┤\n",
       "q_1: ┤ Ry(θ[1]) ├┤ X ├┤ Ry(θ[3]) ├\n",
       "     └──────────┘└───┘└──────────┘</pre>"
      ],
      "text/plain": [
       "     ┌──────────┐     ┌──────────┐\n",
       "q_0: ┤ Ry(θ[0]) ├──■──┤ Ry(θ[2]) ├\n",
       "     ├──────────┤┌─┴─┐├──────────┤\n",
       "q_1: ┤ Ry(θ[1]) ├┤ X ├┤ Ry(θ[3]) ├\n",
       "     └──────────┘└───┘└──────────┘"
      ]
     },
     "execution_count": 18,
     "metadata": {},
     "output_type": "execute_result"
    }
   ],
   "source": [
    "ansatz.decompose().draw()"
   ]
  },
  {
   "cell_type": "code",
   "execution_count": 50,
   "metadata": {},
   "outputs": [
    {
     "data": {
      "text/plain": [
       "<matplotlib.image.AxesImage at 0x7f457b4acf40>"
      ]
     },
     "execution_count": 50,
     "metadata": {},
     "output_type": "execute_result"
    },
    {
     "data": {
      "image/png": "[encoded data removed]",
      "text/plain": [
       "<Figure size 640x480 with 1 Axes>"
      ]
     },
     "metadata": {},
     "output_type": "display_data"
    }
   ],
   "source": [
    "out = []\n",
    "pvals = np.linspace(0,4*np.pi,10)\n",
    "for p1 in pvals:\n",
    "    for p2 in pvals:\n",
    "\n",
    "        R0 = QuantumCircuit(2)\n",
    "        R0.ry(p1,0)\n",
    "        R0.ry(p2,1)\n",
    "        out.append(Operator(R0).data@np.array([1,0,0,0]))\n",
    "out = np.array(out).reshape(10,10,4) .real\n",
    "plt.imshow(out[:,:,1]) \n"
   ]
  },
  {
   "cell_type": "code",
   "execution_count": 39,
   "metadata": {},
   "outputs": [
    {
     "name": "stdout",
     "output_type": "stream",
     "text": [
      "[[ 0.20009871  0.13792462  0.79867117  0.55051038]\n",
      " [-0.13792462  0.20009871 -0.55051038  0.79867117]\n",
      " [-0.79867117 -0.55051038  0.20009871  0.13792462]\n",
      " [ 0.55051038 -0.79867117 -0.13792462  0.20009871]]\n"
     ]
    }
   ],
   "source": [
    "print(Operator(R0).data.real)"
   ]
  },
  {
   "cell_type": "code",
   "execution_count": 40,
   "metadata": {},
   "outputs": [
    {
     "name": "stdout",
     "output_type": "stream",
     "text": [
      "[[ 0.82335601+0.j  0.56752522+0.j]\n",
      " [-0.56752522+0.j  0.82335601+0.j]]\n",
      "[[ 0.24302818+0.j  0.97001923+0.j]\n",
      " [-0.97001923+0.j  0.24302818+0.j]]\n",
      "[ 0.20009871+0.j -0.13792462+0.j -0.79867117+0.j  0.55051038+0.j]\n"
     ]
    }
   ],
   "source": [
    "print(Operator(RYGate(parameters[0])).data)\n",
    "print(Operator(RYGate(parameters[1])).data)\n",
    "\n",
    "out0 = Operator(R0).data@np.array([1,0,0,0])\n",
    "print(out0)"
   ]
  },
  {
   "cell_type": "code",
   "execution_count": 41,
   "metadata": {},
   "outputs": [
    {
     "data": {
      "text/plain": [
       "array([ 0.20009871+0.j,  0.55051038+0.j, -0.79867117+0.j, -0.13792462+0.j])"
      ]
     },
     "execution_count": 41,
     "metadata": {},
     "output_type": "execute_result"
    }
   ],
   "source": [
    "EM = QuantumCircuit(2)\n",
    "EM.cx(0,1)\n",
    "\n",
    "Operator(EM).data @ out0"
   ]
  },
  {
   "cell_type": "code",
   "execution_count": null,
   "metadata": {},
   "outputs": [],
   "source": []
  }
 ],
 "metadata": {
  "kernelspec": {
   "display_name": "hera_cal",
   "language": "python",
   "name": "python3"
  },
  "language_info": {
   "codemirror_mode": {
    "name": "ipython",
    "version": 3
   },
   "file_extension": ".py",
   "mimetype": "text/x-python",
   "name": "python",
   "nbconvert_exporter": "python",
   "pygments_lexer": "ipython3",
   "version": "3.8.13"
  },
  "orig_nbformat": 4
 },
 "nbformat": 4,
 "nbformat_minor": 2
}
