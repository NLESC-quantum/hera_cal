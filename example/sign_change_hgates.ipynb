{
 "cells": [
  {
   "cell_type": "code",
   "execution_count": 71,
   "metadata": {},
   "outputs": [],
   "source": [
    "from qiskit.circuit.random import random_circuit \n",
    "from qiskit.primitives import Sampler \n",
    "from qiskit import QuantumCircuit\n",
    "from qiskit.quantum_info import Statevector, Operator \n",
    "import numpy as np\n",
    "\n",
    "from qiskit.circuit.library.n_local.real_amplitudes import RealAmplitudes\n",
    "from qiskit.circuit.library.n_local.efficient_su2 import EfficientSU2\n",
    "\n",
    "import treelib "
   ]
  },
  {
   "cell_type": "code",
   "execution_count": 35,
   "metadata": {},
   "outputs": [],
   "source": [
    "def get_samples(circ):\n",
    "    sampler = Sampler()\n",
    "    circ_m = circ.measure_all(inplace=False)\n",
    "    res = sampler.run(\n",
    "        circ_m\n",
    "    ).result()\n",
    "    res = res.quasi_dists[0]\n",
    "    proba = np.zeros(2**circ.num_qubits)\n",
    "    for k,v in res.items():\n",
    "        proba[k] = v \n",
    "    return proba\n",
    "\n",
    "def get_amplitude(circ):\n",
    "    return Statevector(circ).data.real\n",
    "\n",
    "def add_h(circ, idx):\n",
    "    qc = QuantumCircuit(circ.num_qubits)\n",
    "    qc.append(circ, range(circ.num_qubits))\n",
    "    qc.h(idx)\n",
    "    return qc"
   ]
  },
  {
   "cell_type": "code",
   "execution_count": 36,
   "metadata": {},
   "outputs": [],
   "source": [
    "nqbits = 2\n",
    "circ = RealAmplitudes(nqbits, entanglement='full', reps=3, insert_barriers=False)\n",
    "parameters = 4*np.pi*np.random.rand(circ.num_parameters)\n",
    "circ = circ.bind_parameters(parameters)"
   ]
  },
  {
   "cell_type": "code",
   "execution_count": 63,
   "metadata": {},
   "outputs": [],
   "source": [
    "sample = get_samples(circ)\n",
    "amp = get_amplitude(circ)\n"
   ]
  },
  {
   "cell_type": "code",
   "execution_count": 64,
   "metadata": {},
   "outputs": [],
   "source": [
    "def get_all_h_circ(circ):\n",
    "    circuits = []\n",
    "    \n",
    "    for idx in range(circ.num_qubits):\n",
    "        circuits.append(add_h(circ, idx)) \n",
    "    return circuits"
   ]
  },
  {
   "cell_type": "code",
   "execution_count": 65,
   "metadata": {},
   "outputs": [],
   "source": [
    "hcircs = get_all_h_circ(circ)"
   ]
  },
  {
   "cell_type": "code",
   "execution_count": 66,
   "metadata": {},
   "outputs": [],
   "source": [
    "h_samples = [get_samples(c) for c in hcircs]\n",
    "h_amps = [get_amplitude(c) for c in hcircs]"
   ]
  },
  {
   "cell_type": "code",
   "execution_count": 67,
   "metadata": {},
   "outputs": [],
   "source": [
    "amp = -amp \n",
    "h_amps = [-a for a in h_amps]"
   ]
  },
  {
   "cell_type": "code",
   "execution_count": 68,
   "metadata": {},
   "outputs": [
    {
     "data": {
      "text/plain": [
       "(array([-0.29522751, -0.16433723,  0.92260287,  0.1861127 ]),\n",
       " [array([-0.32496134, -0.09255341,  0.7839803 ,  0.52077719]),\n",
       "  array([ 0.44362137,  0.01539758, -0.86113612, -0.24780552])])"
      ]
     },
     "execution_count": 68,
     "metadata": {},
     "output_type": "execute_result"
    }
   ],
   "source": [
    "amp, h_amps"
   ]
  },
  {
   "cell_type": "code",
   "execution_count": 69,
   "metadata": {},
   "outputs": [
    {
     "data": {
      "text/plain": [
       "-0.3249613439302672"
      ]
     },
     "execution_count": 69,
     "metadata": {},
     "output_type": "execute_result"
    }
   ],
   "source": [
    "1/np.sqrt(2)*(amp[0]+amp[1])"
   ]
  },
  {
   "cell_type": "code",
   "execution_count": 49,
   "metadata": {},
   "outputs": [
    {
     "data": {
      "text/plain": [
       "array([0.08715928, 0.02700672, 0.85119605, 0.03463794])"
      ]
     },
     "execution_count": 49,
     "metadata": {},
     "output_type": "execute_result"
    }
   ],
   "source": [
    "sample"
   ]
  },
  {
   "cell_type": "code",
   "execution_count": 47,
   "metadata": {},
   "outputs": [
    {
     "data": {
      "text/plain": [
       "[array([0.10559988, 0.00856613, 0.61462511, 0.27120888]),\n",
       " array([1.96799920e-01, 2.37085621e-04, 7.41555417e-01, 6.14075774e-02])]"
      ]
     },
     "execution_count": 47,
     "metadata": {},
     "output_type": "execute_result"
    }
   ],
   "source": [
    "h_samples"
   ]
  },
  {
   "cell_type": "code",
   "execution_count": 70,
   "metadata": {},
   "outputs": [
    {
     "data": {
      "text/plain": [
       "[array([ 1., -1.,  1.,  1.]), array([ 1., -1.,  1.,  1.])]"
      ]
     },
     "execution_count": 70,
     "metadata": {},
     "output_type": "execute_result"
    }
   ],
   "source": [
    "[np.sign(2*hs - sample) for hs in h_samples]"
   ]
  },
  {
   "cell_type": "code",
   "execution_count": 43,
   "metadata": {},
   "outputs": [
    {
     "data": {
      "text/plain": [
       "array([ 0.29522751,  0.16433723, -0.92260287, -0.1861127 ])"
      ]
     },
     "execution_count": 43,
     "metadata": {},
     "output_type": "execute_result"
    }
   ],
   "source": [
    "amp"
   ]
  },
  {
   "cell_type": "code",
   "execution_count": null,
   "metadata": {},
   "outputs": [],
   "source": [
    "def init_weight(samples, h0_samples):\n",
    "    signs = np.sign(2*h0_samples - samples)\n",
    "    N = len(signs)\n",
    "    weights = np.zeros(N)\n",
    "    for i in range(int(N/2)):\n",
    "        b = 2*(i)+1\n",
    "        weights[b] = signs[b]\n",
    "    return weights  "
   ]
  },
  {
   "cell_type": "code",
   "execution_count": 72,
   "metadata": {},
   "outputs": [],
   "source": [
    "def init_tree(N):\n",
    "    trees = []\n",
    "    for i in range(int(N/2)):\n",
    "        tree = treelib.Tree()\n",
    "        a,b = 2*(i), 2*(i)+1\n",
    "        tree.create_node(a,a, data = 1)\n",
    "        tree.create_node(b,b,parent=a, data=2*np.random.randint(1)-1)\n",
    "        trees.append(tree)\n",
    "    return trees \n",
    "N = 2**4\n",
    "trees = init_tree(N)"
   ]
  },
  {
   "cell_type": "code",
   "execution_count": 73,
   "metadata": {},
   "outputs": [
    {
     "data": {
      "text/plain": [
       "<treelib.tree.Tree at 0x7fdead706610>"
      ]
     },
     "execution_count": 73,
     "metadata": {},
     "output_type": "execute_result"
    }
   ],
   "source": [
    "trees[0]"
   ]
  },
  {
   "cell_type": "code",
   "execution_count": null,
   "metadata": {},
   "outputs": [],
   "source": [
    "def link_weights(samples, h_samples):\n",
    "    N = len(samples)\n",
    "    ntree = N/2\n",
    "    for iter in range(1, int(np.log2(N))):\n",
    "        for iroot in range(0,int(ntree),2**iter):\n",
    "            new_root = trees[iroot].root\n",
    "            print(iroot, new_root)\n",
    "            new_leaf = iroot + 2**(iter -1)\n",
    "            trees[iroot].paste(new_root, trees[new_leaf])"
   ]
  },
  {
   "cell_type": "code",
   "execution_count": 74,
   "metadata": {},
   "outputs": [
    {
     "name": "stdout",
     "output_type": "stream",
     "text": [
      "0 0\n",
      "2 4\n",
      "4 8\n",
      "6 12\n",
      "0 0\n",
      "4 8\n",
      "0 0\n"
     ]
    }
   ],
   "source": [
    "def link_trees(trees):\n",
    "    ntree = len(trees)\n",
    "    for iter in range(1, int(np.log2(N))):\n",
    "        for iroot in range(0,int(ntree),2**iter):\n",
    "            new_root = trees[iroot].root\n",
    "            print(iroot, new_root)\n",
    "            new_leaf = iroot + 2**(iter -1)\n",
    "            trees[iroot].paste(new_root, trees[new_leaf])\n",
    "    \n",
    "link_trees(trees)"
   ]
  },
  {
   "cell_type": "code",
   "execution_count": 78,
   "metadata": {},
   "outputs": [
    {
     "name": "stdout",
     "output_type": "stream",
     "text": [
      "6\n",
      "└── 7\n",
      "\n"
     ]
    }
   ],
   "source": [
    "trees[3].show()"
   ]
  },
  {
   "cell_type": "code",
   "execution_count": null,
   "metadata": {},
   "outputs": [],
   "source": [
    "tree = trees[0]"
   ]
  },
  {
   "cell_type": "code",
   "execution_count": null,
   "metadata": {},
   "outputs": [
    {
     "data": {
      "text/plain": [
       "[[0, 1],\n",
       " [0, 2, 3],\n",
       " [0, 4, 5],\n",
       " [0, 4, 6, 7],\n",
       " [0, 8, 9],\n",
       " [0, 8, 10, 11],\n",
       " [0, 8, 12, 13],\n",
       " [0, 8, 12, 14, 15]]"
      ]
     },
     "execution_count": 24,
     "metadata": {},
     "output_type": "execute_result"
    }
   ],
   "source": [
    "tree.paths_to_leaves()"
   ]
  },
  {
   "cell_type": "code",
   "execution_count": null,
   "metadata": {},
   "outputs": [
    {
     "name": "stdout",
     "output_type": "stream",
     "text": [
      "1\n",
      "-1\n",
      "1\n",
      "-1\n",
      "1\n",
      "-1\n",
      "1\n",
      "-1\n",
      "1\n",
      "-1\n",
      "1\n",
      "-1\n",
      "1\n",
      "-1\n",
      "1\n",
      "-1\n"
     ]
    }
   ],
   "source": [
    "for node in tree.all_nodes():\n",
    "    print(node.data)"
   ]
  },
  {
   "cell_type": "code",
   "execution_count": null,
   "metadata": {},
   "outputs": [],
   "source": [
    "tree.get_node(0).data = -1"
   ]
  },
  {
   "cell_type": "code",
   "execution_count": null,
   "metadata": {},
   "outputs": [
    {
     "data": {
      "text/plain": [
       "-1"
      ]
     },
     "execution_count": 44,
     "metadata": {},
     "output_type": "execute_result"
    }
   ],
   "source": [
    "tree.get_node(0).data"
   ]
  },
  {
   "cell_type": "code",
   "execution_count": null,
   "metadata": {},
   "outputs": [],
   "source": []
  }
 ],
 "metadata": {
  "kernelspec": {
   "display_name": "Python 3 (ipykernel)",
   "language": "python",
   "name": "python3"
  },
  "language_info": {
   "codemirror_mode": {
    "name": "ipython",
    "version": 3
   },
   "file_extension": ".py",
   "mimetype": "text/x-python",
   "name": "python",
   "nbconvert_exporter": "python",
   "pygments_lexer": "ipython3",
   "version": "3.8.13"
  }
 },
 "nbformat": 4,
 "nbformat_minor": 2
}
