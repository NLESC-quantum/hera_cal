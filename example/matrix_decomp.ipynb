{
 "cells": [
  {
   "cell_type": "code",
   "execution_count": 1,
   "metadata": {},
   "outputs": [],
   "source": [
    "import numpy as np\n",
    "from qiskit.opflow import (\n",
    "    Z,\n",
    "    X,\n",
    "    Y,\n",
    "    I,\n",
    "    Plus,\n",
    "    Minus,\n",
    "    Zero, One,\n",
    "    CX, S, H, T, CZ, Swap,\n",
    "    TensoredOp\n",
    ")\n",
    "from qiskit import QuantumCircuit\n",
    "from qiskit.quantum_info.operators import Operator, Pauli\n",
    "zero_op = (I + Z) / 2\n",
    "one_op = (I - Z) / 2"
   ]
  },
  {
   "cell_type": "code",
   "execution_count": 2,
   "metadata": {},
   "outputs": [
    {
     "data": {
      "text/plain": [
       "2"
      ]
     },
     "execution_count": 2,
     "metadata": {},
     "output_type": "execute_result"
    }
   ],
   "source": [
    "Operator(X).input_dims()[0]"
   ]
  },
  {
   "cell_type": "markdown",
   "metadata": {},
   "source": [
    "# N = 2"
   ]
  },
  {
   "cell_type": "code",
   "execution_count": 3,
   "metadata": {},
   "outputs": [
    {
     "data": {
      "text/plain": [
       "array([[0., 0., 0., 0.],\n",
       "       [0., 1., 0., 0.],\n",
       "       [0., 0., 1., 0.],\n",
       "       [0., 0., 0., 0.]])"
      ]
     },
     "execution_count": 3,
     "metadata": {},
     "output_type": "execute_result"
    }
   ],
   "source": [
    "Operator(zero_op^one_op).data.real + Operator(one_op^zero_op).data.real"
   ]
  },
  {
   "cell_type": "code",
   "execution_count": 4,
   "metadata": {},
   "outputs": [
    {
     "data": {
      "text/plain": [
       "array([[1., 0., 0., 0.],\n",
       "       [0., 0., 0., 0.],\n",
       "       [0., 0., 0., 0.],\n",
       "       [0., 0., 0., 1.]])"
      ]
     },
     "execution_count": 4,
     "metadata": {},
     "output_type": "execute_result"
    }
   ],
   "source": [
    "Operator(zero_op^zero_op).data.real + Operator(one_op^one_op).data.real"
   ]
  },
  {
   "cell_type": "code",
   "execution_count": 5,
   "metadata": {},
   "outputs": [
    {
     "data": {
      "text/plain": [
       "array([[0., 0., 0., 1.],\n",
       "       [0., 0., 0., 0.],\n",
       "       [0., 0., 0., 0.],\n",
       "       [1., 0., 0., 0.]])"
      ]
     },
     "execution_count": 5,
     "metadata": {},
     "output_type": "execute_result"
    }
   ],
   "source": [
    "0.5*(Operator(X^X).data.real - Operator(Y^Y).data.real)"
   ]
  },
  {
   "cell_type": "code",
   "execution_count": 6,
   "metadata": {},
   "outputs": [
    {
     "data": {
      "text/plain": [
       "array([[0., 0., 0., 0.],\n",
       "       [0., 0., 1., 0.],\n",
       "       [0., 1., 0., 0.],\n",
       "       [0., 0., 0., 0.]])"
      ]
     },
     "execution_count": 6,
     "metadata": {},
     "output_type": "execute_result"
    }
   ],
   "source": [
    "0.5*(Operator(X^X).data.real + Operator(Y^Y).data.real)"
   ]
  },
  {
   "cell_type": "code",
   "execution_count": 7,
   "metadata": {},
   "outputs": [
    {
     "data": {
      "text/plain": [
       "array([[-0., -0., -0.,  1.],\n",
       "       [-0., -0., -1., -0.],\n",
       "       [-0., -1., -0., -0.],\n",
       "       [ 1., -0., -0., -0.]])"
      ]
     },
     "execution_count": 7,
     "metadata": {},
     "output_type": "execute_result"
    }
   ],
   "source": [
    "- Operator(Y^Y).data.real"
   ]
  },
  {
   "cell_type": "code",
   "execution_count": 8,
   "metadata": {},
   "outputs": [
    {
     "data": {
      "text/plain": [
       "array([[0., 1., 0., 0.],\n",
       "       [1., 0., 0., 0.],\n",
       "       [0., 0., 0., 1.],\n",
       "       [0., 0., 1., 0.]])"
      ]
     },
     "execution_count": 8,
     "metadata": {},
     "output_type": "execute_result"
    }
   ],
   "source": [
    "Operator(I^X).data.real"
   ]
  },
  {
   "cell_type": "code",
   "execution_count": 9,
   "metadata": {},
   "outputs": [
    {
     "data": {
      "text/plain": [
       "array([[0., 0., 1., 0.],\n",
       "       [0., 0., 0., 1.],\n",
       "       [1., 0., 0., 0.],\n",
       "       [0., 1., 0., 0.]])"
      ]
     },
     "execution_count": 9,
     "metadata": {},
     "output_type": "execute_result"
    }
   ],
   "source": [
    "Operator(X^I).data.real"
   ]
  },
  {
   "cell_type": "markdown",
   "metadata": {},
   "source": [
    "## Unitary decomposition\n"
   ]
  },
  {
   "cell_type": "code",
   "execution_count": 10,
   "metadata": {},
   "outputs": [
    {
     "data": {
      "text/plain": [
       "array([[ 12.+0.j, -16.+0.j,  -4.+0.j,   8.+0.j],\n",
       "       [-16.+0.j,  28.+0.j,  -8.+0.j,  -4.+0.j],\n",
       "       [ -4.+0.j,  -8.+0.j,  28.+0.j, -16.+0.j],\n",
       "       [  8.+0.j,  -4.+0.j, -16.+0.j,  12.+0.j]])"
      ]
     },
     "execution_count": 10,
     "metadata": {},
     "output_type": "execute_result"
    }
   ],
   "source": [
    "from qalcore.qiskit.vqls.numpy_unitary_matrices import UnitaryDecomposition\n",
    "\n",
    "circuits = []\n",
    "coefficients = []\n",
    "\n",
    "# -16 X^I\n",
    "cxi = QuantumCircuit(2)\n",
    "cxi.x(0)\n",
    "cxi.i(1)\n",
    "\n",
    "circuits.append(cxi)\n",
    "coefficients.append(-16)\n",
    "\n",
    "# -4 I^X\n",
    "cix = QuantumCircuit(2)\n",
    "cix.x(1)\n",
    "cix.i(0)\n",
    "\n",
    "circuits.append(cix)\n",
    "coefficients.append(-4)\n",
    "\n",
    "# 12 swap\n",
    "cs = QuantumCircuit(2)\n",
    "cs.swap(0,1)\n",
    "\n",
    "circuits.append(cs)\n",
    "coefficients.append(12)\n",
    "\n",
    "# 28 swap\n",
    "cs = QuantumCircuit(2)\n",
    "cs.swap(0,1)\n",
    "cs.x(0)\n",
    "cs.x(1)\n",
    "\n",
    "circuits.append(cs)\n",
    "coefficients.append(28)\n",
    "\n",
    "# -20 XX\n",
    "cs = QuantumCircuit(2)\n",
    "cs.x(0)\n",
    "cs.x(1)\n",
    "\n",
    "circuits.append(cs)\n",
    "coefficients.append(-20)\n",
    "\n",
    "mat = UnitaryDecomposition(circuits=circuits, coefficients=coefficients)\n",
    "mat.get_matrix_from_circuits()\n"
   ]
  },
  {
   "cell_type": "code",
   "execution_count": 11,
   "metadata": {},
   "outputs": [
    {
     "data": {
      "text/plain": [
       "Operator([[ 6.123234e-17+0.0000000e+00j,  1.000000e+00-1.2246468e-16j],\n",
       "          [-1.000000e+00-1.2246468e-16j,  6.123234e-17+0.0000000e+00j]],\n",
       "         input_dims=(2,), output_dims=(2,))"
      ]
     },
     "execution_count": 11,
     "metadata": {},
     "output_type": "execute_result"
    }
   ],
   "source": [
    "c = QuantumCircuit(1)\n",
    "c.u(np.pi,-np.pi,np.pi,[0])\n",
    "Operator(c)"
   ]
  },
  {
   "cell_type": "code",
   "execution_count": 12,
   "metadata": {},
   "outputs": [
    {
     "data": {
      "text/plain": [
       "array([[ 0.,  0.,  0., -1.],\n",
       "       [ 0.,  0.,  1.,  0.],\n",
       "       [ 0.,  1.,  0.,  0.],\n",
       "       [-1.,  0.,  0.,  0.]])"
      ]
     },
     "execution_count": 12,
     "metadata": {},
     "output_type": "execute_result"
    }
   ],
   "source": [
    "c = QuantumCircuit(2)\n",
    "c.y(1)\n",
    "c.y(0)\n",
    "Operator(c).data.real"
   ]
  },
  {
   "cell_type": "code",
   "execution_count": 13,
   "metadata": {},
   "outputs": [],
   "source": [
    "mat = Operator(Y^Y).data.real\n"
   ]
  },
  {
   "cell_type": "code",
   "execution_count": 14,
   "metadata": {},
   "outputs": [
    {
     "data": {
      "text/plain": [
       "Operator([[0.+0.j, 0.+0.j, 0.+0.j, 1.+0.j],\n",
       "          [0.+0.j, 0.+0.j, 1.+0.j, 0.+0.j],\n",
       "          [0.+0.j, 1.+0.j, 0.+0.j, 0.+0.j],\n",
       "          [1.+0.j, 0.+0.j, 0.+0.j, 0.+0.j]],\n",
       "         input_dims=(2, 2), output_dims=(2, 2))"
      ]
     },
     "execution_count": 14,
     "metadata": {},
     "output_type": "execute_result"
    }
   ],
   "source": [
    "Operator(X^X)"
   ]
  },
  {
   "cell_type": "code",
   "execution_count": 15,
   "metadata": {},
   "outputs": [
    {
     "data": {
      "image/png": "[encoded data removed]",
      "text/plain": [
       "<Figure size 1123.41x200.667 with 1 Axes>"
      ]
     },
     "execution_count": 15,
     "metadata": {},
     "output_type": "execute_result"
    }
   ],
   "source": [
    "m = Operator(Swap).data.real\n",
    "op = Operator(m)\n",
    "circ =QuantumCircuit(2)\n",
    "circ.unitary(m,[0,1])\n",
    "circ.decompose().draw('mpl')"
   ]
  },
  {
   "cell_type": "code",
   "execution_count": 16,
   "metadata": {},
   "outputs": [
    {
     "data": {
      "image/png": "[encoded data removed]",
      "text/plain": [
       "<Figure size 1123.41x200.667 with 1 Axes>"
      ]
     },
     "execution_count": 16,
     "metadata": {},
     "output_type": "execute_result"
    }
   ],
   "source": [
    "m = np.zeros((4,4))\n",
    "m[0,3] = m[3,0] = m[1,1] = m[2,2] = 1\n",
    "op = Operator(m)\n",
    "circ =QuantumCircuit(2)\n",
    "circ.unitary(m,[0,1])\n",
    "circ.decompose().draw('mpl')\n"
   ]
  },
  {
   "cell_type": "code",
   "execution_count": 17,
   "metadata": {},
   "outputs": [
    {
     "data": {
      "text/plain": [
       "array([[ 7.07106781e-01+0.j        , -4.32978028e-17-0.70710678j],\n",
       "       [ 4.32978028e-17-0.70710678j,  7.07106781e-01+0.j        ]])"
      ]
     },
     "execution_count": 17,
     "metadata": {},
     "output_type": "execute_result"
    }
   ],
   "source": [
    "c = QuantumCircuit(1)\n",
    "c.u(np.pi/2,-np.pi/2,np.pi/2,[0])\n",
    "Operator(c).data"
   ]
  },
  {
   "cell_type": "code",
   "execution_count": 18,
   "metadata": {},
   "outputs": [
    {
     "data": {
      "text/plain": [
       "array([[0.70710678+0.j        , 0.70710678+0.j        ],\n",
       "       [0.        +0.70710678j, 0.        -0.70710678j]])"
      ]
     },
     "execution_count": 18,
     "metadata": {},
     "output_type": "execute_result"
    }
   ],
   "source": [
    "c=QuantumCircuit(1)\n",
    "c.h(0)\n",
    "c.s(0)\n",
    "# c.z(0)\n",
    "Operator(c).data"
   ]
  },
  {
   "cell_type": "code",
   "execution_count": 19,
   "metadata": {},
   "outputs": [
    {
     "data": {
      "text/plain": [
       "array([[0., 0., 0., 1.],\n",
       "       [0., 1., 0., 0.],\n",
       "       [0., 0., 1., 0.],\n",
       "       [1., 0., 0., 0.]])"
      ]
     },
     "execution_count": 19,
     "metadata": {},
     "output_type": "execute_result"
    }
   ],
   "source": [
    "circ = QuantumCircuit(2)\n",
    "circ.swap(0,1)\n",
    "circ.x(0)\n",
    "circ.x(1)\n",
    "Operator(circ).data.real"
   ]
  },
  {
   "cell_type": "markdown",
   "metadata": {},
   "source": [
    "# N = 3 "
   ]
  },
  {
   "cell_type": "code",
   "execution_count": 20,
   "metadata": {},
   "outputs": [
    {
     "data": {
      "text/plain": [
       "array([[1., 0., 0., 0., 0., 0., 0., 0.],\n",
       "       [0., 0., 0., 0., 0., 0., 0., 0.],\n",
       "       [0., 0., 0., 0., 0., 0., 0., 0.],\n",
       "       [0., 0., 0., 0., 0., 0., 0., 0.],\n",
       "       [0., 0., 0., 0., 0., 0., 0., 0.],\n",
       "       [0., 0., 0., 0., 0., 0., 0., 0.],\n",
       "       [0., 0., 0., 0., 0., 0., 0., 0.],\n",
       "       [0., 0., 0., 0., 0., 0., 0., 1.]])"
      ]
     },
     "execution_count": 20,
     "metadata": {},
     "output_type": "execute_result"
    }
   ],
   "source": [
    "Operator(TensoredOp([zero_op]*3)).data.real + Operator(TensoredOp([one_op]*3)).data.real"
   ]
  },
  {
   "cell_type": "code",
   "execution_count": 21,
   "metadata": {},
   "outputs": [
    {
     "data": {
      "text/plain": [
       "array([[0., 0., 0., 0., 0., 0., 0., 0.],\n",
       "       [0., 0., 0., 0., 0., 0., 0., 0.],\n",
       "       [0., 0., 0., 0., 0., 0., 0., 0.],\n",
       "       [0., 0., 0., 1., 0., 0., 0., 0.],\n",
       "       [0., 0., 0., 0., 1., 0., 0., 0.],\n",
       "       [0., 0., 0., 0., 0., 0., 0., 0.],\n",
       "       [0., 0., 0., 0., 0., 0., 0., 0.],\n",
       "       [0., 0., 0., 0., 0., 0., 0., 0.]])"
      ]
     },
     "execution_count": 21,
     "metadata": {},
     "output_type": "execute_result"
    }
   ],
   "source": [
    "Operator(zero_op^TensoredOp(2*[one_op])).data.real + Operator(one_op^TensoredOp(2*[zero_op])).data.real"
   ]
  },
  {
   "cell_type": "code",
   "execution_count": 22,
   "metadata": {},
   "outputs": [
    {
     "data": {
      "text/plain": [
       "array([[0., 0., 0., 0., 0., 0., 0., 0.],\n",
       "       [0., 0., 0., 0., 0., 0., 0., 0.],\n",
       "       [0., 0., 1., 0., 0., 0., 0., 0.],\n",
       "       [0., 0., 0., 0., 0., 0., 0., 0.],\n",
       "       [0., 0., 0., 0., 0., 0., 0., 0.],\n",
       "       [0., 0., 0., 0., 0., 1., 0., 0.],\n",
       "       [0., 0., 0., 0., 0., 0., 0., 0.],\n",
       "       [0., 0., 0., 0., 0., 0., 0., 0.]])"
      ]
     },
     "execution_count": 22,
     "metadata": {},
     "output_type": "execute_result"
    }
   ],
   "source": [
    "Operator(zero_op^one_op^zero_op).data.real + Operator(one_op^zero_op^one_op).data.real"
   ]
  },
  {
   "cell_type": "code",
   "execution_count": 23,
   "metadata": {},
   "outputs": [
    {
     "data": {
      "text/plain": [
       "array([[0., 0., 0., 0., 0., 0., 0., 0.],\n",
       "       [0., 1., 0., 0., 0., 0., 0., 0.],\n",
       "       [0., 0., 0., 0., 0., 0., 0., 0.],\n",
       "       [0., 0., 0., 0., 0., 0., 0., 0.],\n",
       "       [0., 0., 0., 0., 0., 0., 0., 0.],\n",
       "       [0., 0., 0., 0., 0., 0., 0., 0.],\n",
       "       [0., 0., 0., 0., 0., 0., 1., 0.],\n",
       "       [0., 0., 0., 0., 0., 0., 0., 0.]])"
      ]
     },
     "execution_count": 23,
     "metadata": {},
     "output_type": "execute_result"
    }
   ],
   "source": [
    "Operator(zero_op^zero_op^one_op).data.real + Operator(one_op^one_op^zero_op).data.real"
   ]
  },
  {
   "cell_type": "code",
   "execution_count": 24,
   "metadata": {},
   "outputs": [
    {
     "data": {
      "text/plain": [
       "array([[  -0., -768.,   -0.,   -0.,   -0.,   -0.,   -0.,   -0.],\n",
       "       [-768.,   -0.,   -0.,   -0.,   -0.,   -0.,   -0.,   -0.],\n",
       "       [  -0.,   -0.,   -0.,   -0.,   -0.,   -0.,   -0.,   -0.],\n",
       "       [  -0.,   -0.,   -0.,   -0.,   -0.,   -0.,   -0.,   -0.],\n",
       "       [  -0.,   -0.,   -0.,   -0.,   -0.,   -0.,   -0.,   -0.],\n",
       "       [  -0.,   -0.,   -0.,   -0.,   -0.,   -0.,   -0.,   -0.],\n",
       "       [  -0.,   -0.,   -0.,   -0.,   -0.,   -0.,   -0., -768.],\n",
       "       [  -0.,   -0.,   -0.,   -0.,   -0.,   -0., -768.,   -0.]])"
      ]
     },
     "execution_count": 24,
     "metadata": {},
     "output_type": "execute_result"
    }
   ],
   "source": [
    "-768*(Operator(zero_op^zero_op^X).data.real + Operator(one_op^one_op^X).data.real)"
   ]
  },
  {
   "cell_type": "code",
   "execution_count": 25,
   "metadata": {},
   "outputs": [
    {
     "data": {
      "text/plain": [
       "array([[  -0.,   -0.,   -0.,   -0.,   -0.,   -0.,   -0.,   -0.],\n",
       "       [  -0.,   -0.,   -0.,   -0.,   -0.,   -0.,   -0.,   -0.],\n",
       "       [  -0.,   -0.,   -0., -512.,   -0.,   -0.,   -0.,   -0.],\n",
       "       [  -0.,   -0., -512.,   -0.,   -0.,   -0.,   -0.,   -0.],\n",
       "       [  -0.,   -0.,   -0.,   -0.,   -0., -512.,   -0.,   -0.],\n",
       "       [  -0.,   -0.,   -0.,   -0., -512.,   -0.,   -0.,   -0.],\n",
       "       [  -0.,   -0.,   -0.,   -0.,   -0.,   -0.,   -0.,   -0.],\n",
       "       [  -0.,   -0.,   -0.,   -0.,   -0.,   -0.,   -0.,   -0.]])"
      ]
     },
     "execution_count": 25,
     "metadata": {},
     "output_type": "execute_result"
    }
   ],
   "source": [
    "-512*(Operator(zero_op^one_op^X).data.real + Operator(one_op^zero_op^X).data.real)"
   ]
  },
  {
   "cell_type": "code",
   "execution_count": 26,
   "metadata": {},
   "outputs": [
    {
     "data": {
      "text/plain": [
       "array([[  -0.,   -0., -576.,   -0.,   -0.,   -0.,   -0.,   -0.],\n",
       "       [  -0.,   -0.,   -0.,   -0.,   -0.,   -0.,   -0.,   -0.],\n",
       "       [-576.,   -0.,   -0.,   -0.,   -0.,   -0.,   -0.,   -0.],\n",
       "       [  -0.,   -0.,   -0.,   -0.,   -0.,   -0.,   -0.,   -0.],\n",
       "       [  -0.,   -0.,   -0.,   -0.,   -0.,   -0.,   -0.,   -0.],\n",
       "       [  -0.,   -0.,   -0.,   -0.,   -0.,   -0.,   -0., -576.],\n",
       "       [  -0.,   -0.,   -0.,   -0.,   -0.,   -0.,   -0.,   -0.],\n",
       "       [  -0.,   -0.,   -0.,   -0.,   -0., -576.,   -0.,   -0.]])"
      ]
     },
     "execution_count": 26,
     "metadata": {},
     "output_type": "execute_result"
    }
   ],
   "source": [
    "-576*(Operator(zero_op^X^zero_op).data.real + Operator(one_op^X^one_op).data.real)"
   ]
  },
  {
   "cell_type": "code",
   "execution_count": 27,
   "metadata": {},
   "outputs": [
    {
     "data": {
      "text/plain": [
       "array([[  -0.,   -0.,   -0.,   -0.,   -0.,   -0.,   -0.,   -0.],\n",
       "       [  -0.,   -0., -640.,   -0.,   -0.,   -0.,   -0.,   -0.],\n",
       "       [  -0., -640.,   -0.,   -0.,   -0.,   -0.,   -0.,   -0.],\n",
       "       [  -0.,   -0.,   -0.,   -0.,   -0.,   -0.,   -0.,   -0.],\n",
       "       [  -0.,   -0.,   -0.,   -0.,   -0.,   -0.,   -0.,   -0.],\n",
       "       [  -0.,   -0.,   -0.,   -0.,   -0.,   -0., -640.,   -0.],\n",
       "       [  -0.,   -0.,   -0.,   -0.,   -0., -640.,   -0.,   -0.],\n",
       "       [  -0.,   -0.,   -0.,   -0.,   -0.,   -0.,   -0.,   -0.]])"
      ]
     },
     "execution_count": 27,
     "metadata": {},
     "output_type": "execute_result"
    }
   ],
   "source": [
    "-640 * ( 0.5 * Operator(I ^ ((X^X) + (Y^Y))).data.real )"
   ]
  },
  {
   "cell_type": "code",
   "execution_count": 28,
   "metadata": {},
   "outputs": [
    {
     "data": {
      "text/plain": [
       "array([[  -0.,   -0.,   -0.,   -0.,   -0.,   -0.,   -0.,   -0.],\n",
       "       [  -0.,   -0.,   -0., -448.,   -0.,   -0.,   -0.,   -0.],\n",
       "       [  -0.,   -0.,   -0.,   -0.,   -0.,   -0.,   -0.,   -0.],\n",
       "       [  -0., -448.,   -0.,   -0.,   -0.,   -0.,   -0.,   -0.],\n",
       "       [  -0.,   -0.,   -0.,   -0.,   -0.,   -0., -448.,   -0.],\n",
       "       [  -0.,   -0.,   -0.,   -0.,   -0.,   -0.,   -0.,   -0.],\n",
       "       [  -0.,   -0.,   -0.,   -0., -448.,   -0.,   -0.,   -0.],\n",
       "       [  -0.,   -0.,   -0.,   -0.,   -0.,   -0.,   -0.,   -0.]])"
      ]
     },
     "execution_count": 28,
     "metadata": {},
     "output_type": "execute_result"
    }
   ],
   "source": [
    "-448 * (Operator(zero_op^X^one_op).data.real + Operator(one_op^X^zero_op).data.real)"
   ]
  },
  {
   "cell_type": "code",
   "execution_count": 29,
   "metadata": {},
   "outputs": [
    {
     "data": {
      "text/plain": [
       "array([[  -0.,   -0.,   -0., -384.,   -0.,   -0.,   -0.,   -0.],\n",
       "       [  -0.,   -0.,   -0.,   -0.,   -0.,   -0.,   -0.,   -0.],\n",
       "       [  -0.,   -0.,   -0.,   -0.,   -0.,   -0.,   -0.,   -0.],\n",
       "       [-384.,   -0.,   -0.,   -0.,   -0.,   -0.,   -0.,   -0.],\n",
       "       [  -0.,   -0.,   -0.,   -0.,   -0.,   -0.,   -0., -384.],\n",
       "       [  -0.,   -0.,   -0.,   -0.,   -0.,   -0.,   -0.,   -0.],\n",
       "       [  -0.,   -0.,   -0.,   -0.,   -0.,   -0.,   -0.,   -0.],\n",
       "       [  -0.,   -0.,   -0.,   -0., -384.,   -0.,   -0.,   -0.]])"
      ]
     },
     "execution_count": 29,
     "metadata": {},
     "output_type": "execute_result"
    }
   ],
   "source": [
    "-384*( 0.5*(Operator( I^((X^X) - (Y^Y))).data.real) )"
   ]
  },
  {
   "cell_type": "code",
   "execution_count": 60,
   "metadata": {},
   "outputs": [
    {
     "data": {
      "text/plain": [
       "array([[0., 0., 0., 0., 0., 0., 0., 0.],\n",
       "       [0., 0., 0., 0., 0., 0., 0., 0.],\n",
       "       [0., 0., 0., 0., 0., 1., 0., 0.],\n",
       "       [0., 0., 0., 0., 0., 0., 0., 0.],\n",
       "       [0., 0., 0., 0., 0., 0., 0., 0.],\n",
       "       [0., 0., 0., 0., 0., 0., 0., 0.],\n",
       "       [0., 0., 0., 0., 0., 0., 0., 0.],\n",
       "       [0., 0., 0., 0., 0., 0., 0., 0.]])"
      ]
     },
     "execution_count": 60,
     "metadata": {},
     "output_type": "execute_result"
    }
   ],
   "source": [
    "sp = Operator(np.array([[0,1],[0,0]]))\n",
    "sm = Operator(np.array([[0,0],[1,0]]))\n",
    "\n",
    "Operator(sp^sm^sp).data.real"
   ]
  },
  {
   "cell_type": "code",
   "execution_count": 31,
   "metadata": {},
   "outputs": [
    {
     "data": {
      "text/plain": [
       "array([[ 0.,  1.],\n",
       "       [-1.,  0.]])"
      ]
     },
     "execution_count": 31,
     "metadata": {},
     "output_type": "execute_result"
    }
   ],
   "source": [
    "Operator(np.array([[0,1],[-1,0]])).data.real"
   ]
  },
  {
   "cell_type": "code",
   "execution_count": 32,
   "metadata": {},
   "outputs": [
    {
     "data": {
      "text/plain": [
       "Operator([[0.+0.j, 1.+1.j],\n",
       "          [1.-1.j, 0.+0.j]],\n",
       "         input_dims=(2,), output_dims=(2,))"
      ]
     },
     "execution_count": 32,
     "metadata": {},
     "output_type": "execute_result"
    }
   ],
   "source": [
    "Operator(X-Y)"
   ]
  },
  {
   "cell_type": "code",
   "execution_count": 56,
   "metadata": {},
   "outputs": [
    {
     "data": {
      "text/plain": [
       "array([[ 2.+0.j, -1.+0.j],\n",
       "       [ 1.+0.j,  2.+0.j]])"
      ]
     },
     "execution_count": 56,
     "metadata": {},
     "output_type": "execute_result"
    }
   ],
   "source": [
    "r = Operator(np.array([[1,2],[2,-1]]))\n",
    "Operator(X).data@r.data"
   ]
  },
  {
   "cell_type": "code",
   "execution_count": 47,
   "metadata": {},
   "outputs": [
    {
     "data": {
      "text/plain": [
       "array([[ 1.+0.j,  2.+0.j,  0.+0.j,  0.+0.j],\n",
       "       [ 0.+0.j,  0.+0.j,  3.+0.j,  1.+0.j],\n",
       "       [ 2.+0.j, -1.+0.j,  0.+0.j,  0.+0.j],\n",
       "       [ 0.+0.j,  0.+0.j,  1.+0.j,  3.+0.j]])"
      ]
     },
     "execution_count": 47,
     "metadata": {},
     "output_type": "execute_result"
    }
   ],
   "source": [
    "Operator(Swap).data @ r.data"
   ]
  },
  {
   "cell_type": "code",
   "execution_count": 57,
   "metadata": {},
   "outputs": [
    {
     "data": {
      "text/plain": [
       "Operator([[ 0.+0.j,  0.+0.j,  1.+0.j,  2.+0.j],\n",
       "          [ 0.+0.j, -0.+0.j,  2.+0.j, -1.+0.j],\n",
       "          [ 1.+0.j,  2.+0.j,  0.+0.j,  0.+0.j],\n",
       "          [ 2.+0.j, -1.+0.j,  0.+0.j, -0.+0.j]],\n",
       "         input_dims=(2, 2), output_dims=(2, 2))"
      ]
     },
     "execution_count": 57,
     "metadata": {},
     "output_type": "execute_result"
    }
   ],
   "source": [
    "Operator(np.array())^r"
   ]
  },
  {
   "cell_type": "code",
   "execution_count": 64,
   "metadata": {},
   "outputs": [],
   "source": [
    "m3 = np.array([[ \n",
    "   84., -48., -36., -24., -12.,   0.,  12.,  24.],\n",
    " [-48., 116., -40., -28., -16.,  -4.,   8.,  12.],\n",
    " [-36., -40., 140., -32., -20.,  -8.,  -4.,   0.],\n",
    " [-24., -28., -32., 156., -24., -20., -16., -12.],\n",
    " [-12., -16., -20., -24., 156., -32., -28., -24.],\n",
    " [  0.,  -4.,  -8., -20., -32., 140., -40., -36.],\n",
    " [ 12.,   8.,  -4., -16., -28., -40., 116., -48.],\n",
    " [ 24.,  12.,   0., -12., -24., -36., -48.,  84.]])\n"
   ]
  },
  {
   "cell_type": "code",
   "execution_count": 65,
   "metadata": {},
   "outputs": [
    {
     "data": {
      "text/plain": [
       "array([[-12.,   0.,  12.,  24.],\n",
       "       [-16.,  -4.,   8.,  12.],\n",
       "       [-20.,  -8.,  -4.,   0.],\n",
       "       [-24., -20., -16., -12.]])"
      ]
     },
     "execution_count": 65,
     "metadata": {},
     "output_type": "execute_result"
    }
   ],
   "source": [
    "m3[0:4,4:8]"
   ]
  },
  {
   "cell_type": "code",
   "execution_count": 68,
   "metadata": {},
   "outputs": [
    {
     "data": {
      "text/plain": [
       "array([[1., 0., 0., 0.],\n",
       "       [0., 0., 0., 0.],\n",
       "       [0., 0., 0., 0.],\n",
       "       [0., 0., 0., 1.]])"
      ]
     },
     "execution_count": 68,
     "metadata": {},
     "output_type": "execute_result"
    }
   ],
   "source": [
    "Operator( (zero_op^zero_op) + (one_op^one_op)).data.real"
   ]
  },
  {
   "cell_type": "code",
   "execution_count": 89,
   "metadata": {},
   "outputs": [
    {
     "data": {
      "text/plain": [
       "array([[0.+0.j, 0.+0.j, 0.+0.j, 0.+0.j, 0.+0.j, 0.+0.j, 0.+0.j, 1.+0.j],\n",
       "       [0.+0.j, 0.+0.j, 0.+0.j, 0.+0.j, 0.+0.j, 0.+0.j, 0.+0.j, 0.+0.j],\n",
       "       [0.+0.j, 0.+0.j, 0.+0.j, 0.+0.j, 0.+0.j, 0.+0.j, 0.+0.j, 0.+0.j],\n",
       "       [0.+0.j, 0.+0.j, 0.+0.j, 0.+0.j, 0.+0.j, 0.+0.j, 0.+0.j, 0.+0.j],\n",
       "       [0.+0.j, 0.+0.j, 0.+0.j, 0.+0.j, 0.+0.j, 0.+0.j, 0.+0.j, 0.+0.j],\n",
       "       [0.+0.j, 0.+0.j, 0.+0.j, 0.+0.j, 0.+0.j, 0.+0.j, 0.+0.j, 0.+0.j],\n",
       "       [0.+0.j, 0.+0.j, 0.+0.j, 0.+0.j, 0.+0.j, 0.+0.j, 0.+0.j, 0.+0.j],\n",
       "       [1.+0.j, 0.+0.j, 0.+0.j, 0.+0.j, 0.+0.j, 0.+0.j, 0.+0.j, 0.+0.j]])"
      ]
     },
     "execution_count": 89,
     "metadata": {},
     "output_type": "execute_result"
    }
   ],
   "source": [
    "Operator(((sp^sp^sp) + (sm^sm^sm))).data"
   ]
  },
  {
   "cell_type": "code",
   "execution_count": 94,
   "metadata": {},
   "outputs": [
    {
     "data": {
      "text/plain": [
       "array([[ 2., -1.,  0.,  0.],\n",
       "       [-1.,  2., -1.,  0.],\n",
       "       [ 0., -1.,  2., -1.],\n",
       "       [ 0.,  0., -1.,  2.]])"
      ]
     },
     "execution_count": 94,
     "metadata": {},
     "output_type": "execute_result"
    }
   ],
   "source": [
    "Operator((2*I^I) - (I^X) -0.5 * (X^X) -0.5*(Y^Y)).data.real"
   ]
  },
  {
   "cell_type": "code",
   "execution_count": 95,
   "metadata": {},
   "outputs": [
    {
     "data": {
      "text/plain": [
       "array([[0., 1., 0., 0.],\n",
       "       [1., 0., 0., 0.],\n",
       "       [0., 0., 0., 1.],\n",
       "       [0., 0., 1., 0.]])"
      ]
     },
     "execution_count": 95,
     "metadata": {},
     "output_type": "execute_result"
    }
   ],
   "source": [
    "Operator(I^X).data.real"
   ]
  },
  {
   "cell_type": "code",
   "execution_count": 102,
   "metadata": {},
   "outputs": [
    {
     "data": {
      "text/plain": [
       "array([[ 2., -1.,  0.,  0.,  0.,  0.,  0.,  0.],\n",
       "       [-1.,  2., -1.,  0.,  0.,  0.,  0.,  0.],\n",
       "       [ 0., -1.,  2., -1.,  0.,  0.,  0.,  0.],\n",
       "       [ 0.,  0., -1.,  2., -1.,  0.,  0.,  0.],\n",
       "       [ 0.,  0.,  0., -1.,  2., -1.,  0.,  0.],\n",
       "       [ 0.,  0.,  0.,  0., -1.,  2., -1.,  0.],\n",
       "       [ 0.,  0.,  0.,  0.,  0., -1.,  2., -1.],\n",
       "       [ 0.,  0.,  0.,  0.,  0.,  0., -1.,  2.]])"
      ]
     },
     "execution_count": 102,
     "metadata": {},
     "output_type": "execute_result"
    }
   ],
   "source": [
    "Operator( (2*I^I^I) - (I^I^X) - (0.5*I^X^X) - (0.5*I^Y^Y) -(0.25*X^X^X) - (0.25*Y^Y^X) -(0.25*Y^X^Y) + (0.25*X^Y^Y) ).data.real"
   ]
  },
  {
   "cell_type": "code",
   "execution_count": 103,
   "metadata": {},
   "outputs": [
    {
     "data": {
      "text/plain": [
       "array([[0., 1., 0., 0., 0., 0., 0., 0.],\n",
       "       [1., 0., 0., 0., 0., 0., 0., 0.],\n",
       "       [0., 0., 0., 1., 0., 0., 0., 0.],\n",
       "       [0., 0., 1., 0., 0., 0., 0., 0.],\n",
       "       [0., 0., 0., 0., 0., 1., 0., 0.],\n",
       "       [0., 0., 0., 0., 1., 0., 0., 0.],\n",
       "       [0., 0., 0., 0., 0., 0., 0., 1.],\n",
       "       [0., 0., 0., 0., 0., 0., 1., 0.]])"
      ]
     },
     "execution_count": 103,
     "metadata": {},
     "output_type": "execute_result"
    }
   ],
   "source": [
    "Operator(I^I^X).data.real"
   ]
  },
  {
   "cell_type": "code",
   "execution_count": 116,
   "metadata": {},
   "outputs": [
    {
     "data": {
      "text/plain": [
       "array([[0., 0., 0., 0., 0., 0., 0., 4.],\n",
       "       [0., 0., 0., 0., 0., 0., 0., 0.],\n",
       "       [0., 0., 0., 0., 0., 0., 0., 0.],\n",
       "       [0., 0., 0., 0., 0., 0., 0., 0.],\n",
       "       [0., 0., 0., 0., 0., 0., 0., 0.],\n",
       "       [0., 0., 0., 0., 0., 0., 0., 0.],\n",
       "       [0., 0., 0., 0., 0., 0., 0., 0.],\n",
       "       [4., 0., 0., 0., 0., 0., 0., 0.]])"
      ]
     },
     "execution_count": 116,
     "metadata": {},
     "output_type": "execute_result"
    }
   ],
   "source": [
    "Operator( (X^X^X) - (Y^X^Y) - (Y^Y^X) - (X^Y^Y)).data.real"
   ]
  },
  {
   "cell_type": "code",
   "execution_count": 117,
   "metadata": {},
   "outputs": [
    {
     "data": {
      "text/plain": [
       "Operator([[1.+0.j, 0.+0.j, 0.+0.j, 0.+0.j, 0.+0.j, 0.+0.j, 0.+0.j, 0.+0.j],\n",
       "          [0.+0.j, 0.+0.j, 0.+0.j, 0.+0.j, 0.+0.j, 0.+0.j, 0.+0.j, 0.+0.j],\n",
       "          [0.+0.j, 0.+0.j, 0.+0.j, 0.+0.j, 0.+0.j, 0.+0.j, 0.+0.j, 0.+0.j],\n",
       "          [0.+0.j, 0.+0.j, 0.+0.j, 0.+0.j, 0.+0.j, 0.+0.j, 0.+0.j, 0.+0.j],\n",
       "          [0.+0.j, 0.+0.j, 0.+0.j, 0.+0.j, 0.+0.j, 0.+0.j, 0.+0.j, 0.+0.j],\n",
       "          [0.+0.j, 0.+0.j, 0.+0.j, 0.+0.j, 0.+0.j, 0.+0.j, 0.+0.j, 0.+0.j],\n",
       "          [0.+0.j, 0.+0.j, 0.+0.j, 0.+0.j, 0.+0.j, 0.+0.j, 0.+0.j, 0.+0.j],\n",
       "          [0.+0.j, 0.+0.j, 0.+0.j, 0.+0.j, 0.+0.j, 0.+0.j, 0.+0.j, 1.+0.j]],\n",
       "         input_dims=(2, 2, 2), output_dims=(2, 2, 2))"
      ]
     },
     "execution_count": 117,
     "metadata": {},
     "output_type": "execute_result"
    }
   ],
   "source": [
    "Operator( (zero_op^zero_op^zero_op) + (one_op^one_op^one_op))"
   ]
  },
  {
   "cell_type": "code",
   "execution_count": 128,
   "metadata": {},
   "outputs": [
    {
     "data": {
      "text/plain": [
       "array([[4., 0., 0., 0., 0., 0., 0., 0.],\n",
       "       [0., 0., 0., 0., 0., 0., 0., 0.],\n",
       "       [0., 0., 0., 0., 0., 0., 0., 0.],\n",
       "       [0., 0., 0., 0., 0., 0., 0., 0.],\n",
       "       [0., 0., 0., 0., 0., 0., 0., 0.],\n",
       "       [0., 0., 0., 0., 0., 0., 0., 0.],\n",
       "       [0., 0., 0., 0., 0., 0., 0., 0.],\n",
       "       [0., 0., 0., 0., 0., 0., 0., 4.]])"
      ]
     },
     "execution_count": 128,
     "metadata": {},
     "output_type": "execute_result"
    }
   ],
   "source": [
    "Operator((I^I^I) + (I^Z^Z) + (Z^I^Z) + (Z^Z^I)).data.real"
   ]
  },
  {
   "cell_type": "code",
   "execution_count": 122,
   "metadata": {},
   "outputs": [
    {
     "data": {
      "text/plain": [
       "array([[1., 0., 0., 0., 0., 0., 0., 0.],\n",
       "       [0., 0., 0., 0., 0., 0., 0., 0.],\n",
       "       [0., 0., 0., 0., 0., 0., 0., 0.],\n",
       "       [0., 0., 0., 0., 0., 0., 0., 0.],\n",
       "       [0., 0., 0., 0., 0., 0., 0., 0.],\n",
       "       [0., 0., 0., 0., 0., 0., 0., 0.],\n",
       "       [0., 0., 0., 0., 0., 0., 0., 0.],\n",
       "       [0., 0., 0., 0., 0., 0., 0., 0.]])"
      ]
     },
     "execution_count": 122,
     "metadata": {},
     "output_type": "execute_result"
    }
   ],
   "source": [
    "Operator( (zero_op^zero_op^zero_op)).data.real"
   ]
  },
  {
   "cell_type": "code",
   "execution_count": 126,
   "metadata": {},
   "outputs": [
    {
     "data": {
      "text/plain": [
       "array([[8., 0., 0., 0., 0., 0., 0., 0.],\n",
       "       [0., 0., 0., 0., 0., 0., 0., 0.],\n",
       "       [0., 0., 0., 0., 0., 0., 0., 0.],\n",
       "       [0., 0., 0., 0., 0., 0., 0., 0.],\n",
       "       [0., 0., 0., 0., 0., 0., 0., 0.],\n",
       "       [0., 0., 0., 0., 0., 0., 0., 0.],\n",
       "       [0., 0., 0., 0., 0., 0., 0., 0.],\n",
       "       [0., 0., 0., 0., 0., 0., 0., 0.]])"
      ]
     },
     "execution_count": 126,
     "metadata": {},
     "output_type": "execute_result"
    }
   ],
   "source": [
    "Operator( (I^I^I) + (I^I^Z) + (I^Z^Z) + (I^Z^I) + (Z^I^I) + (Z^I^Z)+(Z^Z^I) + (Z^Z^Z)).data.real"
   ]
  },
  {
   "cell_type": "code",
   "execution_count": 130,
   "metadata": {},
   "outputs": [
    {
     "data": {
      "text/plain": [
       "array([[0., 0., 0., 1., 0., 0., 0., 0.],\n",
       "       [0., 0., 1., 0., 0., 0., 0., 0.],\n",
       "       [0., 1., 0., 0., 0., 0., 0., 0.],\n",
       "       [1., 0., 0., 0., 0., 0., 0., 0.],\n",
       "       [0., 0., 0., 0., 0., 0., 0., 0.],\n",
       "       [0., 0., 0., 0., 0., 0., 0., 0.],\n",
       "       [0., 0., 0., 0., 0., 0., 0., 0.],\n",
       "       [0., 0., 0., 0., 0., 0., 0., 0.]])"
      ]
     },
     "execution_count": 130,
     "metadata": {},
     "output_type": "execute_result"
    }
   ],
   "source": [
    "Operator(zero_op^X^X).data.real"
   ]
  },
  {
   "cell_type": "code",
   "execution_count": 133,
   "metadata": {},
   "outputs": [
    {
     "data": {
      "text/plain": [
       "array([[ 0.,  0.,  0.,  1.,  0.,  0.,  0.,  0.],\n",
       "       [ 0.,  0.,  1.,  0.,  0.,  0.,  0.,  0.],\n",
       "       [ 0.,  1.,  0.,  0.,  0.,  0.,  0.,  0.],\n",
       "       [ 1.,  0.,  0.,  0.,  0.,  0.,  0.,  0.],\n",
       "       [ 0.,  0.,  0.,  0.,  0.,  0.,  0., -1.],\n",
       "       [ 0.,  0.,  0.,  0.,  0.,  0., -1.,  0.],\n",
       "       [ 0.,  0.,  0.,  0.,  0., -1.,  0.,  0.],\n",
       "       [ 0.,  0.,  0.,  0., -1.,  0.,  0.,  0.]])"
      ]
     },
     "execution_count": 133,
     "metadata": {},
     "output_type": "execute_result"
    }
   ],
   "source": [
    "Operator(Z^X^X).data.real \n"
   ]
  },
  {
   "cell_type": "code",
   "execution_count": 134,
   "metadata": {},
   "outputs": [],
   "source": [
    "from typing import Optional, List, Union, Dict, Sequence\n",
    "from qiskit import QuantumCircuit, QuantumRegister\n",
    "from qiskit.circuit.parameterexpression import ParameterValueType\n",
    "from qiskit.circuit.register import Register\n",
    "from qiskit.circuit.bit import Bit\n",
    "from qiskit.quantum_info.operators import Operator\n",
    "import numpy as np\n",
    "\n",
    "\n",
    "class ShiftOperator(QuantumCircuit):\n",
    "\n",
    "    def __init__(\n",
    "        self,\n",
    "        regs: Union[Register, int, Sequence[Bit]],\n",
    "        name: Optional[str] = None,\n",
    "        global_phase: ParameterValueType = 0,\n",
    "        metadata: Optional[Dict] = None,\n",
    "        use_mct_ancilla: bool = False\n",
    "    ):\n",
    "\n",
    "        self.qreg = QuantumRegister(regs)\n",
    "        super().__init__(self.qreg)\n",
    "        \n",
    "\n",
    "        if not use_mct_ancilla:\n",
    "            for i in reversed(range(1, self.num_qubits)):\n",
    "                self.mct(self.qreg[:i], self.qreg[i])\n",
    "            self.x(self.qreg[0])\n",
    "        else:\n",
    "            qreg_shift_ancilla = QuantumRegister(self.num_qubits-3, 'q_shift_ancilla')\n",
    "            self.add_register(qreg_shift_ancilla)\n",
    "            for i in reversed(range(1, self.num_qubits)):\n",
    "                self.mct(self.qreg[:i], self.qreg[i], qreg_shift_ancilla, mode='v-chain')\n",
    "            self.x(self.qreg[0])"
   ]
  },
  {
   "cell_type": "code",
   "execution_count": 139,
   "metadata": {},
   "outputs": [
    {
     "data": {
      "text/plain": [
       "array([[0., 1., 0., 0.],\n",
       "       [1., 0., 0., 0.],\n",
       "       [0., 0., 0., 1.],\n",
       "       [0., 0., 1., 0.]])"
      ]
     },
     "execution_count": 139,
     "metadata": {},
     "output_type": "execute_result"
    }
   ],
   "source": [
    "s = ShiftOperator(2)\n",
    "Operator(s).compose(Operator(I^X)).compose(s).data.real"
   ]
  },
  {
   "cell_type": "code",
   "execution_count": 2,
   "metadata": {},
   "outputs": [
    {
     "data": {
      "text/plain": [
       "384"
      ]
     },
     "execution_count": 2,
     "metadata": {},
     "output_type": "execute_result"
    }
   ],
   "source": [
    "896-448-64"
   ]
  },
  {
   "cell_type": "code",
   "execution_count": null,
   "metadata": {},
   "outputs": [],
   "source": []
  }
 ],
 "metadata": {
  "kernelspec": {
   "display_name": "Python 3.8.13 ('hera_cal')",
   "language": "python",
   "name": "python3"
  },
  "language_info": {
   "codemirror_mode": {
    "name": "ipython",
    "version": 3
   },
   "file_extension": ".py",
   "mimetype": "text/x-python",
   "name": "python",
   "nbconvert_exporter": "python",
   "pygments_lexer": "ipython3",
   "version": "3.8.13"
  },
  "orig_nbformat": 4,
  "vscode": {
   "interpreter": {
    "hash": "d25a7a183adba3ec2d4e251c77ccfac1bcc9d7c2241460768de90057e23ccf7c"
   }
  }
 },
 "nbformat": 4,
 "nbformat_minor": 2
}
